{
  "nbformat": 4,
  "nbformat_minor": 0,
  "metadata": {
    "kernelspec": {
      "display_name": "Python 3.6",
      "name": "python3",
      "language": "python"
    },
    "language_info": {
      "mimetype": "text/x-python",
      "nbconvert_exporter": "python",
      "version": "3.6.8",
      "name": "python",
      "file_extension": ".py",
      "pygments_lexer": "ipython3",
      "codemirror_mode": {
        "version": 3,
        "name": "ipython"
      }
    },
    "colab": {
      "name": "ExploringTorontoNeighborhoods.ipynb",
      "provenance": [],
      "include_colab_link": true
    }
  },
  "cells": [
    {
      "cell_type": "markdown",
      "metadata": {
        "id": "view-in-github",
        "colab_type": "text"
      },
      "source": [
        "<a href=\"https://colab.research.google.com/github/lovelesh-singla/Coursera_Capstone/blob/master/ExploringTorontoNeighborhoods.ipynb\" target=\"_parent\"><img src=\"https://colab.research.google.com/assets/colab-badge.svg\" alt=\"Open In Colab\"/></a>"
      ]
    },
    {
      "cell_type": "markdown",
      "metadata": {
        "collapsed": true,
        "id": "WCyolVuOsKD_"
      },
      "source": [
        "<center><h1>Exploring Toronto Neighborhoods to open an Indian Restaurant.</h1></center>"
      ]
    },
    {
      "cell_type": "markdown",
      "metadata": {
        "id": "ZtWAeOVgsKEN"
      },
      "source": [
        "<h2>1. Description of the Problem and Discussion of the Background (Introduction Section)</h2>\n"
      ]
    },
    {
      "cell_type": "markdown",
      "metadata": {
        "id": "Sy75cZWvsKEN"
      },
      "source": [
        "<h3>Prospects of a opening an Indian Restaurant in Toronto, Canada.</h3>\n"
      ]
    },
    {
      "cell_type": "markdown",
      "metadata": {
        "id": "MlNA69ccsKEO"
      },
      "source": [
        "Toronto, the capital of the province of Ontario, is the most populous Canadian city. Its diversity is reflected in Toronto’s ethnic neighborhoods such as Chinatown, Corso Italia, Greektown, Kensington Market, Koreatown, Little India, Little Italy, Little Jamaica, Little Portugal & Roncesvalles. One of the most immigrant-friendly cities in North America with more than half of the entire Indian Canadian population residing in Toronto it is one of the best places to start an Indian restaurant.\n",
        "\n",
        "In this project we will go through step by step process to make a decision whether it is a good idea to open an Indian restaurant. We analyze the neighborhoods in Toronto to identify the most profitable area since the success of the restaurant depends on the people and ambience. Since we already know that Toronto shelter a greater number of Indians than any other city in Canada, it is a good idea to start the restaurant here, but we just need to make sure whether it is a profitable idea or not. If so, where we can place it, so it yields more profit to the owner.\n"
      ]
    },
    {
      "cell_type": "markdown",
      "metadata": {
        "id": "wlVbgHX3sKEP"
      },
      "source": [
        "<h3>Target Audience</h3>"
      ]
    },
    {
      "cell_type": "markdown",
      "metadata": {
        "id": "NGIPSRDZsKEP"
      },
      "source": [
        "Who will be more interested in this project? What type of clients or a group of people would be benefitted?\n",
        "1.\tBusiness personnel who wants to invest or open an Indian restaurant in Toronto. This analysis will be a comprehensive guide to start or expand restaurants targeting the Indian crowd.\n",
        "2.\tFreelancer who loves to have their own restaurant as a side business. This analysis will give an idea, how beneficial it is to open a restaurant and what are the pros and cons of this business.\n",
        "3.\tIndian crowd who wants to find neighborhoods with lots of option for Indian restaurants. \n",
        "4.\tBusiness Analyst or Data Scientists, who wish to analyze the neighborhoods of Toronto using Exploratory Data Analysis and other statistical & machine learning techniques to obtain all the necessary data, perform some operations on it and, finally be able to tell a story out of it.\n"
      ]
    },
    {
      "cell_type": "markdown",
      "metadata": {
        "id": "IWO7pzB5sKEP"
      },
      "source": [
        "<h2>2. Data acquisition and cleaning</h2>\n"
      ]
    },
    {
      "cell_type": "markdown",
      "metadata": {
        "id": "86I9vNVzsKEQ"
      },
      "source": [
        "<h3>2.1 Data Sources</h3>\n"
      ]
    },
    {
      "cell_type": "markdown",
      "metadata": {
        "id": "6o1RhC1-sKEQ"
      },
      "source": [
        "a) I’m using “List of Postal code of Canada: M” (https://en.wikipedia.org/wiki/List_of_postal_codes_of_Canada:_M) wiki page to get all the information about the neighborhoods present in Toronto. This page has the postal code, borough & the name of all the neighborhoods present in Toronto. \n",
        "\n",
        "b) Then I’m using “https://cocl.us/Geospatial_data” csv file to get all the geographical coordinates of the neighborhoods. \n",
        "\n",
        "c) To get information about the distribution of population by their ethnicity I’m using “Demographics of Toronto” (https://en.m.wikipedia.org/wiki/Demographics_of_Toronto#Ethnic_diversity) wiki page. Using this page I’m going to identify the neighborhoods which are densely populated with Indians as it might be helpful in identifying the suitable neighborhood to open a new Indian restaurant. \n",
        "\n",
        "d) To get location and other information about various venues in Toronto I’m using Foursquare’s explore API. Using the Foursquare’s explore API (which gives venues recommendations), I’m fetching details about the venues up present in Toronto and collected their names, categories and locations (latitude and longitude). \n",
        "From Foursquare API (https://developer.foursquare.com/docs), I retrieved the following for each venue:\n",
        "<li>Name: The name of the venue. </li>\n",
        "<li>Category: The category type as defined by the API.</li>\n",
        "<li>Latitude: The latitude value of the venue.</li>\n",
        "<li>Longitude: The longitude value of the venue.</li>\n"
      ]
    },
    {
      "cell_type": "markdown",
      "metadata": {
        "id": "m55NKgTmsKEQ"
      },
      "source": [
        "<h3>2.2 Data Cleaning</h3>"
      ]
    },
    {
      "cell_type": "markdown",
      "metadata": {
        "id": "1IT0_7pMsKER"
      },
      "source": [
        "<h4>a) Scraping Toronto Neighborhoods Table from Wikipedia</h4>"
      ]
    },
    {
      "cell_type": "markdown",
      "metadata": {
        "id": "SU1Rr4vesKER"
      },
      "source": [
        "#### Scraped the following Wikipedia page, “List of Postal code of Canada: M” in order to obtain the data about the Toronto & the Neighborhoods in it.\n",
        "\n",
        "<u> Assumptions made to attain the below DataFrame:</u>\n",
        "<li>Dataframe will consist of three columns: PostalCode, Borough, and Neighborhood</li>\n",
        "<li>Only the cells that have an assigned borough will be processed. Borough that is not assigned are ignored.</li>\n",
        "<li>More than one neighborhood can exist in one postal code area. For example, in the table on the Wikipedia page, you will notice that M5A is listed twice and has two neighborhoods: Harbourfront and Regent Park. These two rows will be combined into one row with the neighborhoods separated with a comma as shown in row 11 in the above table.</li>\n",
        "<li>If a cell has a borough but a Not assigned neighborhood, then the neighborhood will be the same as the borough.</li>\n",
        "\n",
        "wikipedia - package is used to scrape the data from wiki."
      ]
    },
    {
      "cell_type": "code",
      "metadata": {
        "id": "ZCKJKry1sKER"
      },
      "source": [
        "import pandas as pd\n",
        "import numpy as np\n"
      ],
      "execution_count": 64,
      "outputs": []
    },
    {
      "cell_type": "code",
      "metadata": {
        "id": "zLv4P8GDsKET",
        "colab": {
          "base_uri": "https://localhost:8080/",
          "height": 202
        },
        "outputId": "912efb6b-ffa4-4190-a99b-18ae4a88621b"
      },
      "source": [
        "html = \"https://en.wikipedia.org/wiki/List_of_postal_codes_of_Canada:_M\"\n",
        "df = pd.read_html(html, header = 0)[0]\n",
        "df.head()"
      ],
      "execution_count": 65,
      "outputs": [
        {
          "output_type": "execute_result",
          "data": {
            "text/html": [
              "<div>\n",
              "<style scoped>\n",
              "    .dataframe tbody tr th:only-of-type {\n",
              "        vertical-align: middle;\n",
              "    }\n",
              "\n",
              "    .dataframe tbody tr th {\n",
              "        vertical-align: top;\n",
              "    }\n",
              "\n",
              "    .dataframe thead th {\n",
              "        text-align: right;\n",
              "    }\n",
              "</style>\n",
              "<table border=\"1\" class=\"dataframe\">\n",
              "  <thead>\n",
              "    <tr style=\"text-align: right;\">\n",
              "      <th></th>\n",
              "      <th>Postal Code</th>\n",
              "      <th>Borough</th>\n",
              "      <th>Neighbourhood</th>\n",
              "    </tr>\n",
              "  </thead>\n",
              "  <tbody>\n",
              "    <tr>\n",
              "      <th>0</th>\n",
              "      <td>M1A</td>\n",
              "      <td>Not assigned</td>\n",
              "      <td>Not assigned</td>\n",
              "    </tr>\n",
              "    <tr>\n",
              "      <th>1</th>\n",
              "      <td>M2A</td>\n",
              "      <td>Not assigned</td>\n",
              "      <td>Not assigned</td>\n",
              "    </tr>\n",
              "    <tr>\n",
              "      <th>2</th>\n",
              "      <td>M3A</td>\n",
              "      <td>North York</td>\n",
              "      <td>Parkwoods</td>\n",
              "    </tr>\n",
              "    <tr>\n",
              "      <th>3</th>\n",
              "      <td>M4A</td>\n",
              "      <td>North York</td>\n",
              "      <td>Victoria Village</td>\n",
              "    </tr>\n",
              "    <tr>\n",
              "      <th>4</th>\n",
              "      <td>M5A</td>\n",
              "      <td>Downtown Toronto</td>\n",
              "      <td>Regent Park, Harbourfront</td>\n",
              "    </tr>\n",
              "  </tbody>\n",
              "</table>\n",
              "</div>"
            ],
            "text/plain": [
              "  Postal Code           Borough              Neighbourhood\n",
              "0         M1A      Not assigned               Not assigned\n",
              "1         M2A      Not assigned               Not assigned\n",
              "2         M3A        North York                  Parkwoods\n",
              "3         M4A        North York           Victoria Village\n",
              "4         M5A  Downtown Toronto  Regent Park, Harbourfront"
            ]
          },
          "metadata": {
            "tags": []
          },
          "execution_count": 65
        }
      ]
    },
    {
      "cell_type": "code",
      "metadata": {
        "id": "OBOIMAPysKET",
        "colab": {
          "base_uri": "https://localhost:8080/",
          "height": 202
        },
        "outputId": "f1f5e680-d470-421e-9a68-e58824294c49"
      },
      "source": [
        "#Only process the cells that have an assigned borough. Ignore cells with a borough that is Not assigned.\n",
        "df = df[df.Borough != 'Not assigned']\n",
        "df = df.rename(columns={'Postal Code': 'Postalcode'})\n",
        "\n",
        "#If a cell has a borough but a Not assigned neighborhood, then the neighborhood will be the same as the borough. \n",
        "#So for the 9th cell in the table on the Wikipedia page, the value of the Borough and the Neighborhood columns will be Queen's Park.\n",
        "for index, row in df.iterrows():\n",
        "    if row['Neighbourhood'] == 'Not assigned':\n",
        "        row['Neighbourhood'] = row['Borough']\n",
        "\n",
        "\n",
        "df.head()"
      ],
      "execution_count": 66,
      "outputs": [
        {
          "output_type": "execute_result",
          "data": {
            "text/html": [
              "<div>\n",
              "<style scoped>\n",
              "    .dataframe tbody tr th:only-of-type {\n",
              "        vertical-align: middle;\n",
              "    }\n",
              "\n",
              "    .dataframe tbody tr th {\n",
              "        vertical-align: top;\n",
              "    }\n",
              "\n",
              "    .dataframe thead th {\n",
              "        text-align: right;\n",
              "    }\n",
              "</style>\n",
              "<table border=\"1\" class=\"dataframe\">\n",
              "  <thead>\n",
              "    <tr style=\"text-align: right;\">\n",
              "      <th></th>\n",
              "      <th>Postalcode</th>\n",
              "      <th>Borough</th>\n",
              "      <th>Neighbourhood</th>\n",
              "    </tr>\n",
              "  </thead>\n",
              "  <tbody>\n",
              "    <tr>\n",
              "      <th>2</th>\n",
              "      <td>M3A</td>\n",
              "      <td>North York</td>\n",
              "      <td>Parkwoods</td>\n",
              "    </tr>\n",
              "    <tr>\n",
              "      <th>3</th>\n",
              "      <td>M4A</td>\n",
              "      <td>North York</td>\n",
              "      <td>Victoria Village</td>\n",
              "    </tr>\n",
              "    <tr>\n",
              "      <th>4</th>\n",
              "      <td>M5A</td>\n",
              "      <td>Downtown Toronto</td>\n",
              "      <td>Regent Park, Harbourfront</td>\n",
              "    </tr>\n",
              "    <tr>\n",
              "      <th>5</th>\n",
              "      <td>M6A</td>\n",
              "      <td>North York</td>\n",
              "      <td>Lawrence Manor, Lawrence Heights</td>\n",
              "    </tr>\n",
              "    <tr>\n",
              "      <th>6</th>\n",
              "      <td>M7A</td>\n",
              "      <td>Downtown Toronto</td>\n",
              "      <td>Queen's Park, Ontario Provincial Government</td>\n",
              "    </tr>\n",
              "  </tbody>\n",
              "</table>\n",
              "</div>"
            ],
            "text/plain": [
              "  Postalcode           Borough                                Neighbourhood\n",
              "2        M3A        North York                                    Parkwoods\n",
              "3        M4A        North York                             Victoria Village\n",
              "4        M5A  Downtown Toronto                    Regent Park, Harbourfront\n",
              "5        M6A        North York             Lawrence Manor, Lawrence Heights\n",
              "6        M7A  Downtown Toronto  Queen's Park, Ontario Provincial Government"
            ]
          },
          "metadata": {
            "tags": []
          },
          "execution_count": 66
        }
      ]
    },
    {
      "cell_type": "code",
      "metadata": {
        "id": "t_fCW_s_sKEU",
        "colab": {
          "base_uri": "https://localhost:8080/",
          "height": 202
        },
        "outputId": "2a8c9bc5-0488-4253-c8cd-e781a8192c70"
      },
      "source": [
        "df = df.groupby(['Borough', 'Postalcode'])['Neighbourhood'].apply(list).apply(lambda x:', '.join(x)).to_frame().reset_index()\n",
        "df.head()"
      ],
      "execution_count": 67,
      "outputs": [
        {
          "output_type": "execute_result",
          "data": {
            "text/html": [
              "<div>\n",
              "<style scoped>\n",
              "    .dataframe tbody tr th:only-of-type {\n",
              "        vertical-align: middle;\n",
              "    }\n",
              "\n",
              "    .dataframe tbody tr th {\n",
              "        vertical-align: top;\n",
              "    }\n",
              "\n",
              "    .dataframe thead th {\n",
              "        text-align: right;\n",
              "    }\n",
              "</style>\n",
              "<table border=\"1\" class=\"dataframe\">\n",
              "  <thead>\n",
              "    <tr style=\"text-align: right;\">\n",
              "      <th></th>\n",
              "      <th>Borough</th>\n",
              "      <th>Postalcode</th>\n",
              "      <th>Neighbourhood</th>\n",
              "    </tr>\n",
              "  </thead>\n",
              "  <tbody>\n",
              "    <tr>\n",
              "      <th>0</th>\n",
              "      <td>Central Toronto</td>\n",
              "      <td>M4N</td>\n",
              "      <td>Lawrence Park</td>\n",
              "    </tr>\n",
              "    <tr>\n",
              "      <th>1</th>\n",
              "      <td>Central Toronto</td>\n",
              "      <td>M4P</td>\n",
              "      <td>Davisville North</td>\n",
              "    </tr>\n",
              "    <tr>\n",
              "      <th>2</th>\n",
              "      <td>Central Toronto</td>\n",
              "      <td>M4R</td>\n",
              "      <td>North Toronto West, Lawrence Park</td>\n",
              "    </tr>\n",
              "    <tr>\n",
              "      <th>3</th>\n",
              "      <td>Central Toronto</td>\n",
              "      <td>M4S</td>\n",
              "      <td>Davisville</td>\n",
              "    </tr>\n",
              "    <tr>\n",
              "      <th>4</th>\n",
              "      <td>Central Toronto</td>\n",
              "      <td>M4T</td>\n",
              "      <td>Moore Park, Summerhill East</td>\n",
              "    </tr>\n",
              "  </tbody>\n",
              "</table>\n",
              "</div>"
            ],
            "text/plain": [
              "           Borough Postalcode                      Neighbourhood\n",
              "0  Central Toronto        M4N                      Lawrence Park\n",
              "1  Central Toronto        M4P                   Davisville North\n",
              "2  Central Toronto        M4R  North Toronto West, Lawrence Park\n",
              "3  Central Toronto        M4S                         Davisville\n",
              "4  Central Toronto        M4T        Moore Park, Summerhill East"
            ]
          },
          "metadata": {
            "tags": []
          },
          "execution_count": 67
        }
      ]
    },
    {
      "cell_type": "markdown",
      "metadata": {
        "id": "svxl7TWZsKEU"
      },
      "source": [
        "<h4>b) Adding geographical coordinates to the neighborhoods</h4>"
      ]
    },
    {
      "cell_type": "markdown",
      "metadata": {
        "id": "ehuvVddDsKEU"
      },
      "source": [
        "Next important step is adding the geographical coordinates to these neighborhoods. To do so I'm extracting the data present in the Geospatial Data csv file and I'm combining it with the existing neighborhood dataframe by merging them both based on the postal code.  "
      ]
    },
    {
      "cell_type": "code",
      "metadata": {
        "id": "CaUEkUlDsKEU",
        "colab": {
          "base_uri": "https://localhost:8080/",
          "height": 202
        },
        "outputId": "fa3adc8d-7172-42ac-d501-d1b0edd214f7"
      },
      "source": [
        "#Reading the latitude & longitude data from CSV file\n",
        "import io\n",
        "import requests\n",
        "\n",
        "url = \"https://cocl.us/Geospatial_data\"\n",
        "lat_long = requests.get(url).text\n",
        "lat_long_df=pd.read_csv(io.StringIO(lat_long))\n",
        "lat_long_df.head()"
      ],
      "execution_count": 68,
      "outputs": [
        {
          "output_type": "execute_result",
          "data": {
            "text/html": [
              "<div>\n",
              "<style scoped>\n",
              "    .dataframe tbody tr th:only-of-type {\n",
              "        vertical-align: middle;\n",
              "    }\n",
              "\n",
              "    .dataframe tbody tr th {\n",
              "        vertical-align: top;\n",
              "    }\n",
              "\n",
              "    .dataframe thead th {\n",
              "        text-align: right;\n",
              "    }\n",
              "</style>\n",
              "<table border=\"1\" class=\"dataframe\">\n",
              "  <thead>\n",
              "    <tr style=\"text-align: right;\">\n",
              "      <th></th>\n",
              "      <th>Postal Code</th>\n",
              "      <th>Latitude</th>\n",
              "      <th>Longitude</th>\n",
              "    </tr>\n",
              "  </thead>\n",
              "  <tbody>\n",
              "    <tr>\n",
              "      <th>0</th>\n",
              "      <td>M1B</td>\n",
              "      <td>43.806686</td>\n",
              "      <td>-79.194353</td>\n",
              "    </tr>\n",
              "    <tr>\n",
              "      <th>1</th>\n",
              "      <td>M1C</td>\n",
              "      <td>43.784535</td>\n",
              "      <td>-79.160497</td>\n",
              "    </tr>\n",
              "    <tr>\n",
              "      <th>2</th>\n",
              "      <td>M1E</td>\n",
              "      <td>43.763573</td>\n",
              "      <td>-79.188711</td>\n",
              "    </tr>\n",
              "    <tr>\n",
              "      <th>3</th>\n",
              "      <td>M1G</td>\n",
              "      <td>43.770992</td>\n",
              "      <td>-79.216917</td>\n",
              "    </tr>\n",
              "    <tr>\n",
              "      <th>4</th>\n",
              "      <td>M1H</td>\n",
              "      <td>43.773136</td>\n",
              "      <td>-79.239476</td>\n",
              "    </tr>\n",
              "  </tbody>\n",
              "</table>\n",
              "</div>"
            ],
            "text/plain": [
              "  Postal Code   Latitude  Longitude\n",
              "0         M1B  43.806686 -79.194353\n",
              "1         M1C  43.784535 -79.160497\n",
              "2         M1E  43.763573 -79.188711\n",
              "3         M1G  43.770992 -79.216917\n",
              "4         M1H  43.773136 -79.239476"
            ]
          },
          "metadata": {
            "tags": []
          },
          "execution_count": 68
        }
      ]
    },
    {
      "cell_type": "markdown",
      "metadata": {
        "id": "qEQoLTYKsKEV"
      },
      "source": [
        "I'm renaming the columns to match the existing dataframe  "
      ]
    },
    {
      "cell_type": "code",
      "metadata": {
        "id": "a-CSWnpZsKEV",
        "colab": {
          "base_uri": "https://localhost:8080/",
          "height": 202
        },
        "outputId": "881e61d2-a521-4bea-9406-6424af8892ea"
      },
      "source": [
        "lat_long_df = lat_long_df.rename(columns={'Postal Code': 'Postalcode'})\n",
        "lat_long_df.head()"
      ],
      "execution_count": 69,
      "outputs": [
        {
          "output_type": "execute_result",
          "data": {
            "text/html": [
              "<div>\n",
              "<style scoped>\n",
              "    .dataframe tbody tr th:only-of-type {\n",
              "        vertical-align: middle;\n",
              "    }\n",
              "\n",
              "    .dataframe tbody tr th {\n",
              "        vertical-align: top;\n",
              "    }\n",
              "\n",
              "    .dataframe thead th {\n",
              "        text-align: right;\n",
              "    }\n",
              "</style>\n",
              "<table border=\"1\" class=\"dataframe\">\n",
              "  <thead>\n",
              "    <tr style=\"text-align: right;\">\n",
              "      <th></th>\n",
              "      <th>Postalcode</th>\n",
              "      <th>Latitude</th>\n",
              "      <th>Longitude</th>\n",
              "    </tr>\n",
              "  </thead>\n",
              "  <tbody>\n",
              "    <tr>\n",
              "      <th>0</th>\n",
              "      <td>M1B</td>\n",
              "      <td>43.806686</td>\n",
              "      <td>-79.194353</td>\n",
              "    </tr>\n",
              "    <tr>\n",
              "      <th>1</th>\n",
              "      <td>M1C</td>\n",
              "      <td>43.784535</td>\n",
              "      <td>-79.160497</td>\n",
              "    </tr>\n",
              "    <tr>\n",
              "      <th>2</th>\n",
              "      <td>M1E</td>\n",
              "      <td>43.763573</td>\n",
              "      <td>-79.188711</td>\n",
              "    </tr>\n",
              "    <tr>\n",
              "      <th>3</th>\n",
              "      <td>M1G</td>\n",
              "      <td>43.770992</td>\n",
              "      <td>-79.216917</td>\n",
              "    </tr>\n",
              "    <tr>\n",
              "      <th>4</th>\n",
              "      <td>M1H</td>\n",
              "      <td>43.773136</td>\n",
              "      <td>-79.239476</td>\n",
              "    </tr>\n",
              "  </tbody>\n",
              "</table>\n",
              "</div>"
            ],
            "text/plain": [
              "  Postalcode   Latitude  Longitude\n",
              "0        M1B  43.806686 -79.194353\n",
              "1        M1C  43.784535 -79.160497\n",
              "2        M1E  43.763573 -79.188711\n",
              "3        M1G  43.770992 -79.216917\n",
              "4        M1H  43.773136 -79.239476"
            ]
          },
          "metadata": {
            "tags": []
          },
          "execution_count": 69
        }
      ]
    },
    {
      "cell_type": "markdown",
      "metadata": {
        "id": "P9zaYRxasKEW"
      },
      "source": [
        "After that I'm merging both the dataframe into one by matching on the postal code. "
      ]
    },
    {
      "cell_type": "code",
      "metadata": {
        "id": "A9Ug1ildsKEW",
        "colab": {
          "base_uri": "https://localhost:8080/",
          "height": 202
        },
        "outputId": "abd84d89-bc8b-4467-b70b-0e5b7dc6fccc"
      },
      "source": [
        "toronto_DF = pd.merge(df,lat_long_df, on='Postalcode')\n",
        "toronto_DF = toronto_DF.rename(columns={'Neighbourhood':'Neighborhood'})\n",
        "toronto_DF.head()"
      ],
      "execution_count": 70,
      "outputs": [
        {
          "output_type": "execute_result",
          "data": {
            "text/html": [
              "<div>\n",
              "<style scoped>\n",
              "    .dataframe tbody tr th:only-of-type {\n",
              "        vertical-align: middle;\n",
              "    }\n",
              "\n",
              "    .dataframe tbody tr th {\n",
              "        vertical-align: top;\n",
              "    }\n",
              "\n",
              "    .dataframe thead th {\n",
              "        text-align: right;\n",
              "    }\n",
              "</style>\n",
              "<table border=\"1\" class=\"dataframe\">\n",
              "  <thead>\n",
              "    <tr style=\"text-align: right;\">\n",
              "      <th></th>\n",
              "      <th>Borough</th>\n",
              "      <th>Postalcode</th>\n",
              "      <th>Neighborhood</th>\n",
              "      <th>Latitude</th>\n",
              "      <th>Longitude</th>\n",
              "    </tr>\n",
              "  </thead>\n",
              "  <tbody>\n",
              "    <tr>\n",
              "      <th>0</th>\n",
              "      <td>Central Toronto</td>\n",
              "      <td>M4N</td>\n",
              "      <td>Lawrence Park</td>\n",
              "      <td>43.728020</td>\n",
              "      <td>-79.388790</td>\n",
              "    </tr>\n",
              "    <tr>\n",
              "      <th>1</th>\n",
              "      <td>Central Toronto</td>\n",
              "      <td>M4P</td>\n",
              "      <td>Davisville North</td>\n",
              "      <td>43.712751</td>\n",
              "      <td>-79.390197</td>\n",
              "    </tr>\n",
              "    <tr>\n",
              "      <th>2</th>\n",
              "      <td>Central Toronto</td>\n",
              "      <td>M4R</td>\n",
              "      <td>North Toronto West, Lawrence Park</td>\n",
              "      <td>43.715383</td>\n",
              "      <td>-79.405678</td>\n",
              "    </tr>\n",
              "    <tr>\n",
              "      <th>3</th>\n",
              "      <td>Central Toronto</td>\n",
              "      <td>M4S</td>\n",
              "      <td>Davisville</td>\n",
              "      <td>43.704324</td>\n",
              "      <td>-79.388790</td>\n",
              "    </tr>\n",
              "    <tr>\n",
              "      <th>4</th>\n",
              "      <td>Central Toronto</td>\n",
              "      <td>M4T</td>\n",
              "      <td>Moore Park, Summerhill East</td>\n",
              "      <td>43.689574</td>\n",
              "      <td>-79.383160</td>\n",
              "    </tr>\n",
              "  </tbody>\n",
              "</table>\n",
              "</div>"
            ],
            "text/plain": [
              "           Borough Postalcode  ...   Latitude  Longitude\n",
              "0  Central Toronto        M4N  ...  43.728020 -79.388790\n",
              "1  Central Toronto        M4P  ...  43.712751 -79.390197\n",
              "2  Central Toronto        M4R  ...  43.715383 -79.405678\n",
              "3  Central Toronto        M4S  ...  43.704324 -79.388790\n",
              "4  Central Toronto        M4T  ...  43.689574 -79.383160\n",
              "\n",
              "[5 rows x 5 columns]"
            ]
          },
          "metadata": {
            "tags": []
          },
          "execution_count": 70
        }
      ]
    },
    {
      "cell_type": "code",
      "metadata": {
        "id": "dYA6kxL0sKEW",
        "colab": {
          "base_uri": "https://localhost:8080/"
        },
        "outputId": "ea27d5ab-c6e3-438e-f8ac-0eca3e8b889a"
      },
      "source": [
        "print('The dataframe has {} boroughs and {} neighborhoods.'.format(\n",
        "        len(toronto_DF['Borough'].unique()),\n",
        "        toronto_DF.shape[0]\n",
        "    )\n",
        ")"
      ],
      "execution_count": 71,
      "outputs": [
        {
          "output_type": "stream",
          "text": [
            "The dataframe has 10 boroughs and 103 neighborhoods.\n"
          ],
          "name": "stdout"
        }
      ]
    },
    {
      "cell_type": "markdown",
      "metadata": {
        "id": "Pb4YzKXQsKEX"
      },
      "source": [
        "<h4>c) Scrap the distribution of population from Wikipedia</h4>"
      ]
    },
    {
      "cell_type": "markdown",
      "metadata": {
        "id": "ac7mb5e0sKEX"
      },
      "source": [
        "Another factor that can help us in deciding which neighborhood would be best option to open a restaurant is, the distribution of population based on the ethnic diversity for each neighborhood. As this helps us in identifying the neighborhoods which are densely populated with Indian crowd since that neighborhood would be an ideal place to open an Indian restaurant. \n",
        "\n",
        "Scraped the following Wikipedia page, “Demographics of Toronto” in order to obtain the data about the Toronto & the Neighborhoods in it. Compared to all the neighborhoods in Toronto below given neighborhoods only had considerable amount of Indian crowd. We are examing those neighborhood's population to identify the densely populated neighborhoods with Indian population."
      ]
    },
    {
      "cell_type": "code",
      "metadata": {
        "scrolled": true,
        "id": "n2gKeStssKEX"
      },
      "source": [
        "#overall population distribution \n",
        "html = \"https://en.wikipedia.org/wiki/Demographics_of_Toronto\"\n"
      ],
      "execution_count": 72,
      "outputs": []
    },
    {
      "cell_type": "code",
      "metadata": {
        "id": "GBajHen4sKEX",
        "colab": {
          "base_uri": "https://localhost:8080/",
          "height": 470
        },
        "outputId": "188eb461-5796-465d-e5d9-ceee03c76d44"
      },
      "source": [
        "#TORONTO & EAST YORK population distribution by ethnicity \n",
        "TEY_population_df = pd.read_html(html, header = 0)[12]\n",
        "TEY_population_df = TEY_population_df.rename(columns={'%':'Ethnic Origin 1 in %', \n",
        "                                                      '%.1':'Ethnic Origin 2 in %',\n",
        "                                                     '%.2':'Ethnic Origin 3 in %',\n",
        "                                                     '%.3':'Ethnic Origin 4 in %',\n",
        "                                                     '%.4':'Ethnic Origin 5 in %',\n",
        "                                                     '%.5':'Ethnic Origin 6 in %',\n",
        "                                                     '%.6':'Ethnic Origin 7 in %',\n",
        "                                                     '%.7':'Ethnic Origin 8 in %',\n",
        "                                                     '%.8':'Ethnic Origin 9 in %'})\n",
        "TEY_population_df"
      ],
      "execution_count": 73,
      "outputs": [
        {
          "output_type": "execute_result",
          "data": {
            "text/html": [
              "<div>\n",
              "<style scoped>\n",
              "    .dataframe tbody tr th:only-of-type {\n",
              "        vertical-align: middle;\n",
              "    }\n",
              "\n",
              "    .dataframe tbody tr th {\n",
              "        vertical-align: top;\n",
              "    }\n",
              "\n",
              "    .dataframe thead th {\n",
              "        text-align: right;\n",
              "    }\n",
              "</style>\n",
              "<table border=\"1\" class=\"dataframe\">\n",
              "  <thead>\n",
              "    <tr style=\"text-align: right;\">\n",
              "      <th></th>\n",
              "      <th>Riding</th>\n",
              "      <th>Population</th>\n",
              "      <th>Ethnic Origin #1</th>\n",
              "      <th>Ethnic Origin 1 in %</th>\n",
              "      <th>Ethnic Origin #2</th>\n",
              "      <th>Ethnic Origin 2 in %</th>\n",
              "      <th>Ethnic Origin #3</th>\n",
              "      <th>Ethnic Origin 3 in %</th>\n",
              "      <th>Ethnic Origin #4</th>\n",
              "      <th>Ethnic Origin 4 in %</th>\n",
              "      <th>Ethnic Origin #5</th>\n",
              "      <th>Ethnic Origin 5 in %</th>\n",
              "      <th>Ethnic Origin #6</th>\n",
              "      <th>Ethnic Origin 6 in %</th>\n",
              "      <th>Ethnic Origin #7</th>\n",
              "      <th>Ethnic Origin 7 in %</th>\n",
              "      <th>Ethnic Origin #8</th>\n",
              "      <th>Ethnic Origin 8 in %</th>\n",
              "      <th>Ethnic Origin #9</th>\n",
              "      <th>Ethnic Origin 9 in %</th>\n",
              "    </tr>\n",
              "  </thead>\n",
              "  <tbody>\n",
              "    <tr>\n",
              "      <th>0</th>\n",
              "      <td>Spadina-Fort York</td>\n",
              "      <td>114315</td>\n",
              "      <td>English</td>\n",
              "      <td>16.4</td>\n",
              "      <td>Chinese</td>\n",
              "      <td>16.0</td>\n",
              "      <td>Irish</td>\n",
              "      <td>14.6</td>\n",
              "      <td>Canadian</td>\n",
              "      <td>14.0</td>\n",
              "      <td>Scottish</td>\n",
              "      <td>13.2</td>\n",
              "      <td>French</td>\n",
              "      <td>7.70</td>\n",
              "      <td>German</td>\n",
              "      <td>7.6</td>\n",
              "      <td>NaN</td>\n",
              "      <td>NaN</td>\n",
              "      <td>NaN</td>\n",
              "      <td>NaN</td>\n",
              "    </tr>\n",
              "    <tr>\n",
              "      <th>1</th>\n",
              "      <td>Beaches-East York</td>\n",
              "      <td>108435</td>\n",
              "      <td>English</td>\n",
              "      <td>24.2</td>\n",
              "      <td>Irish</td>\n",
              "      <td>19.9</td>\n",
              "      <td>Canadian</td>\n",
              "      <td>19.7</td>\n",
              "      <td>Scottish</td>\n",
              "      <td>18.9</td>\n",
              "      <td>French</td>\n",
              "      <td>8.7</td>\n",
              "      <td>German</td>\n",
              "      <td>8.40</td>\n",
              "      <td>NaN</td>\n",
              "      <td>NaN</td>\n",
              "      <td>NaN</td>\n",
              "      <td>NaN</td>\n",
              "      <td>NaN</td>\n",
              "      <td>NaN</td>\n",
              "    </tr>\n",
              "    <tr>\n",
              "      <th>2</th>\n",
              "      <td>Davenport</td>\n",
              "      <td>107395</td>\n",
              "      <td>Portuguese</td>\n",
              "      <td>22.7</td>\n",
              "      <td>English</td>\n",
              "      <td>13.6</td>\n",
              "      <td>Canadian</td>\n",
              "      <td>12.8</td>\n",
              "      <td>Irish</td>\n",
              "      <td>11.5</td>\n",
              "      <td>Italian</td>\n",
              "      <td>11.1</td>\n",
              "      <td>Scottish</td>\n",
              "      <td>11.00</td>\n",
              "      <td>NaN</td>\n",
              "      <td>NaN</td>\n",
              "      <td>NaN</td>\n",
              "      <td>NaN</td>\n",
              "      <td>NaN</td>\n",
              "      <td>NaN</td>\n",
              "    </tr>\n",
              "    <tr>\n",
              "      <th>3</th>\n",
              "      <td>Parkdale-High Park</td>\n",
              "      <td>106445</td>\n",
              "      <td>English</td>\n",
              "      <td>22.3</td>\n",
              "      <td>Irish</td>\n",
              "      <td>20.0</td>\n",
              "      <td>Scottish</td>\n",
              "      <td>18.7</td>\n",
              "      <td>Canadian</td>\n",
              "      <td>16.1</td>\n",
              "      <td>German</td>\n",
              "      <td>9.8</td>\n",
              "      <td>French</td>\n",
              "      <td>8.88</td>\n",
              "      <td>Polish</td>\n",
              "      <td>8.5</td>\n",
              "      <td>NaN</td>\n",
              "      <td>NaN</td>\n",
              "      <td>NaN</td>\n",
              "      <td>NaN</td>\n",
              "    </tr>\n",
              "    <tr>\n",
              "      <th>4</th>\n",
              "      <td>Toronto-Danforth</td>\n",
              "      <td>105395</td>\n",
              "      <td>English</td>\n",
              "      <td>22.9</td>\n",
              "      <td>Irish</td>\n",
              "      <td>19.5</td>\n",
              "      <td>Scottish</td>\n",
              "      <td>18.7</td>\n",
              "      <td>Canadian</td>\n",
              "      <td>18.4</td>\n",
              "      <td>Chinese</td>\n",
              "      <td>13.8</td>\n",
              "      <td>French</td>\n",
              "      <td>8.86</td>\n",
              "      <td>German</td>\n",
              "      <td>8.8</td>\n",
              "      <td>Greek</td>\n",
              "      <td>7.3</td>\n",
              "      <td>NaN</td>\n",
              "      <td>NaN</td>\n",
              "    </tr>\n",
              "    <tr>\n",
              "      <th>5</th>\n",
              "      <td>Toronto-St. Paul's</td>\n",
              "      <td>104940</td>\n",
              "      <td>English</td>\n",
              "      <td>18.5</td>\n",
              "      <td>Canadian</td>\n",
              "      <td>16.1</td>\n",
              "      <td>Irish</td>\n",
              "      <td>15.2</td>\n",
              "      <td>Scottish</td>\n",
              "      <td>14.8</td>\n",
              "      <td>Polish</td>\n",
              "      <td>10.3</td>\n",
              "      <td>German</td>\n",
              "      <td>7.90</td>\n",
              "      <td>Russian</td>\n",
              "      <td>7.7</td>\n",
              "      <td>Italian</td>\n",
              "      <td>7.3</td>\n",
              "      <td>French</td>\n",
              "      <td>7.2</td>\n",
              "    </tr>\n",
              "    <tr>\n",
              "      <th>6</th>\n",
              "      <td>University-Rosedale</td>\n",
              "      <td>100520</td>\n",
              "      <td>English</td>\n",
              "      <td>20.6</td>\n",
              "      <td>Irish</td>\n",
              "      <td>16.6</td>\n",
              "      <td>Scottish</td>\n",
              "      <td>16.3</td>\n",
              "      <td>Canadian</td>\n",
              "      <td>15.2</td>\n",
              "      <td>Chinese</td>\n",
              "      <td>14.7</td>\n",
              "      <td>German</td>\n",
              "      <td>8.70</td>\n",
              "      <td>French</td>\n",
              "      <td>7.7</td>\n",
              "      <td>Italian</td>\n",
              "      <td>7.4</td>\n",
              "      <td>NaN</td>\n",
              "      <td>NaN</td>\n",
              "    </tr>\n",
              "    <tr>\n",
              "      <th>7</th>\n",
              "      <td>Toronto Centre</td>\n",
              "      <td>99590</td>\n",
              "      <td>English</td>\n",
              "      <td>15.7</td>\n",
              "      <td>Canadian</td>\n",
              "      <td>13.7</td>\n",
              "      <td>Irish</td>\n",
              "      <td>13.4</td>\n",
              "      <td>Scottish</td>\n",
              "      <td>12.6</td>\n",
              "      <td>Chinese</td>\n",
              "      <td>12.5</td>\n",
              "      <td>French</td>\n",
              "      <td>7.20</td>\n",
              "      <td>NaN</td>\n",
              "      <td>NaN</td>\n",
              "      <td>NaN</td>\n",
              "      <td>NaN</td>\n",
              "      <td>NaN</td>\n",
              "      <td>NaN</td>\n",
              "    </tr>\n",
              "  </tbody>\n",
              "</table>\n",
              "</div>"
            ],
            "text/plain": [
              "                Riding  Population  ... Ethnic Origin #9  Ethnic Origin 9 in %\n",
              "0    Spadina-Fort York      114315  ...              NaN                   NaN\n",
              "1    Beaches-East York      108435  ...              NaN                   NaN\n",
              "2            Davenport      107395  ...              NaN                   NaN\n",
              "3   Parkdale-High Park      106445  ...              NaN                   NaN\n",
              "4     Toronto-Danforth      105395  ...              NaN                   NaN\n",
              "5   Toronto-St. Paul's      104940  ...           French                   7.2\n",
              "6  University-Rosedale      100520  ...              NaN                   NaN\n",
              "7       Toronto Centre       99590  ...              NaN                   NaN\n",
              "\n",
              "[8 rows x 20 columns]"
            ]
          },
          "metadata": {
            "tags": []
          },
          "execution_count": 73
        }
      ]
    },
    {
      "cell_type": "code",
      "metadata": {
        "id": "SKCwERxUsKEY",
        "colab": {
          "base_uri": "https://localhost:8080/",
          "height": 457
        },
        "outputId": "8e97a337-fa2d-4d7a-f3c9-c0683326180b"
      },
      "source": [
        "#NORTH YORK population distribution by ethnicity \n",
        "North_population_df = pd.read_html(html, header = 0)[13]\n",
        "North_population_df = North_population_df.rename(columns={'%':'Ethnic Origin 1 in %', \n",
        "                                                      '%.1':'Ethnic Origin 2 in %',\n",
        "                                                     '%.2':'Ethnic Origin 3 in %',\n",
        "                                                     '%.3':'Ethnic Origin 4 in %',\n",
        "                                                     '%.4':'Ethnic Origin 5 in %',\n",
        "                                                     '%.5':'Ethnic Origin 6 in %',\n",
        "                                                     '%.6':'Ethnic Origin 7 in %',\n",
        "                                                     '%.7':'Ethnic Origin 8 in %'})\n",
        "North_population_df"
      ],
      "execution_count": 74,
      "outputs": [
        {
          "output_type": "execute_result",
          "data": {
            "text/html": [
              "<div>\n",
              "<style scoped>\n",
              "    .dataframe tbody tr th:only-of-type {\n",
              "        vertical-align: middle;\n",
              "    }\n",
              "\n",
              "    .dataframe tbody tr th {\n",
              "        vertical-align: top;\n",
              "    }\n",
              "\n",
              "    .dataframe thead th {\n",
              "        text-align: right;\n",
              "    }\n",
              "</style>\n",
              "<table border=\"1\" class=\"dataframe\">\n",
              "  <thead>\n",
              "    <tr style=\"text-align: right;\">\n",
              "      <th></th>\n",
              "      <th>Riding</th>\n",
              "      <th>Population</th>\n",
              "      <th>Ethnic Origin #1</th>\n",
              "      <th>Ethnic Origin 1 in %</th>\n",
              "      <th>Ethnic Origin #2</th>\n",
              "      <th>Ethnic Origin 2 in %</th>\n",
              "      <th>Ethnic Origin #3</th>\n",
              "      <th>Ethnic Origin 3 in %</th>\n",
              "      <th>Ethnic Origin #4</th>\n",
              "      <th>Ethnic Origin 4 in %</th>\n",
              "      <th>Ethnic Origin #5</th>\n",
              "      <th>Ethnic Origin 5 in %</th>\n",
              "      <th>Ethnic Origin #6</th>\n",
              "      <th>Ethnic Origin 6 in %</th>\n",
              "      <th>Ethnic Origin #7</th>\n",
              "      <th>Ethnic Origin 7 in %</th>\n",
              "      <th>Ethnic Origin #8</th>\n",
              "      <th>Ethnic Origin 8 in %</th>\n",
              "    </tr>\n",
              "  </thead>\n",
              "  <tbody>\n",
              "    <tr>\n",
              "      <th>0</th>\n",
              "      <td>Willowdale</td>\n",
              "      <td>117405</td>\n",
              "      <td>Chinese</td>\n",
              "      <td>25.9</td>\n",
              "      <td>Iranian</td>\n",
              "      <td>12.1</td>\n",
              "      <td>Korean</td>\n",
              "      <td>10.6</td>\n",
              "      <td>NaN</td>\n",
              "      <td>NaN</td>\n",
              "      <td>NaN</td>\n",
              "      <td>NaN</td>\n",
              "      <td>NaN</td>\n",
              "      <td>NaN</td>\n",
              "      <td>NaN</td>\n",
              "      <td>NaN</td>\n",
              "      <td>NaN</td>\n",
              "      <td>NaN</td>\n",
              "    </tr>\n",
              "    <tr>\n",
              "      <th>1</th>\n",
              "      <td>Eglinton-Lawrence</td>\n",
              "      <td>112925</td>\n",
              "      <td>Canadian</td>\n",
              "      <td>14.7</td>\n",
              "      <td>English</td>\n",
              "      <td>12.6</td>\n",
              "      <td>Polish</td>\n",
              "      <td>12.0</td>\n",
              "      <td>Filipino</td>\n",
              "      <td>11.0</td>\n",
              "      <td>Scottish</td>\n",
              "      <td>9.7</td>\n",
              "      <td>Italian</td>\n",
              "      <td>9.5</td>\n",
              "      <td>Irish</td>\n",
              "      <td>9.2</td>\n",
              "      <td>Russian</td>\n",
              "      <td>8.4</td>\n",
              "    </tr>\n",
              "    <tr>\n",
              "      <th>2</th>\n",
              "      <td>Don Valley North</td>\n",
              "      <td>109060</td>\n",
              "      <td>Chinese</td>\n",
              "      <td>32.4</td>\n",
              "      <td>East Indian</td>\n",
              "      <td>7.3</td>\n",
              "      <td>Iranian</td>\n",
              "      <td>7.3</td>\n",
              "      <td>NaN</td>\n",
              "      <td>NaN</td>\n",
              "      <td>NaN</td>\n",
              "      <td>NaN</td>\n",
              "      <td>NaN</td>\n",
              "      <td>NaN</td>\n",
              "      <td>NaN</td>\n",
              "      <td>NaN</td>\n",
              "      <td>NaN</td>\n",
              "      <td>NaN</td>\n",
              "    </tr>\n",
              "    <tr>\n",
              "      <th>3</th>\n",
              "      <td>Humber River-Black Creek</td>\n",
              "      <td>107725</td>\n",
              "      <td>Italian</td>\n",
              "      <td>12.8</td>\n",
              "      <td>East Indian</td>\n",
              "      <td>9.2</td>\n",
              "      <td>Jamaican</td>\n",
              "      <td>8.5</td>\n",
              "      <td>Vietnamese</td>\n",
              "      <td>8.0</td>\n",
              "      <td>Canadian</td>\n",
              "      <td>7.4</td>\n",
              "      <td>NaN</td>\n",
              "      <td>NaN</td>\n",
              "      <td>NaN</td>\n",
              "      <td>NaN</td>\n",
              "      <td>NaN</td>\n",
              "      <td>NaN</td>\n",
              "    </tr>\n",
              "    <tr>\n",
              "      <th>4</th>\n",
              "      <td>York Centre</td>\n",
              "      <td>103760</td>\n",
              "      <td>Filipino</td>\n",
              "      <td>17.0</td>\n",
              "      <td>Italian</td>\n",
              "      <td>13.4</td>\n",
              "      <td>Russian</td>\n",
              "      <td>9.5</td>\n",
              "      <td>Canadian</td>\n",
              "      <td>8.6</td>\n",
              "      <td>NaN</td>\n",
              "      <td>NaN</td>\n",
              "      <td>NaN</td>\n",
              "      <td>NaN</td>\n",
              "      <td>NaN</td>\n",
              "      <td>NaN</td>\n",
              "      <td>NaN</td>\n",
              "      <td>NaN</td>\n",
              "    </tr>\n",
              "    <tr>\n",
              "      <th>5</th>\n",
              "      <td>Don Valley West</td>\n",
              "      <td>101790</td>\n",
              "      <td>English</td>\n",
              "      <td>19.2</td>\n",
              "      <td>Canadian</td>\n",
              "      <td>15.1</td>\n",
              "      <td>Scottish</td>\n",
              "      <td>14.9</td>\n",
              "      <td>Irish</td>\n",
              "      <td>14.2</td>\n",
              "      <td>Chinese</td>\n",
              "      <td>11.2</td>\n",
              "      <td>NaN</td>\n",
              "      <td>NaN</td>\n",
              "      <td>NaN</td>\n",
              "      <td>NaN</td>\n",
              "      <td>NaN</td>\n",
              "      <td>NaN</td>\n",
              "    </tr>\n",
              "    <tr>\n",
              "      <th>6</th>\n",
              "      <td>Don Valley East</td>\n",
              "      <td>93170</td>\n",
              "      <td>East Indian</td>\n",
              "      <td>10.6</td>\n",
              "      <td>Canadian</td>\n",
              "      <td>10.4</td>\n",
              "      <td>English</td>\n",
              "      <td>10.1</td>\n",
              "      <td>Chinese</td>\n",
              "      <td>8.9</td>\n",
              "      <td>Irish</td>\n",
              "      <td>8.1</td>\n",
              "      <td>Scottish</td>\n",
              "      <td>8.0</td>\n",
              "      <td>Filipino</td>\n",
              "      <td>7.8</td>\n",
              "      <td>NaN</td>\n",
              "      <td>NaN</td>\n",
              "    </tr>\n",
              "  </tbody>\n",
              "</table>\n",
              "</div>"
            ],
            "text/plain": [
              "                     Riding  Population  ... Ethnic Origin #8  Ethnic Origin 8 in %\n",
              "0                Willowdale      117405  ...              NaN                   NaN\n",
              "1         Eglinton-Lawrence      112925  ...          Russian                   8.4\n",
              "2          Don Valley North      109060  ...              NaN                   NaN\n",
              "3  Humber River-Black Creek      107725  ...              NaN                   NaN\n",
              "4               York Centre      103760  ...              NaN                   NaN\n",
              "5           Don Valley West      101790  ...              NaN                   NaN\n",
              "6           Don Valley East       93170  ...              NaN                   NaN\n",
              "\n",
              "[7 rows x 18 columns]"
            ]
          },
          "metadata": {
            "tags": []
          },
          "execution_count": 74
        }
      ]
    },
    {
      "cell_type": "code",
      "metadata": {
        "id": "L6wrQjqVsKEZ",
        "colab": {
          "base_uri": "https://localhost:8080/",
          "height": 391
        },
        "outputId": "702357d1-569a-4c0c-ac03-0a930f49dd14"
      },
      "source": [
        "#SCARBOROUGH population distribution by ethnicity \n",
        "Scar_population_df = pd.read_html(html, header = 0)[14]\n",
        "Scar_population_df = Scar_population_df.rename(columns={'%':'Ethnic Origin 1 in %', \n",
        "                                                      '%.1':'Ethnic Origin 2 in %',\n",
        "                                                     '%.2':'Ethnic Origin 3 in %',\n",
        "                                                     '%.3':'Ethnic Origin 4 in %',\n",
        "                                                     '%.4':'Ethnic Origin 5 in %',\n",
        "                                                     '%.5':'Ethnic Origin 6 in %',\n",
        "                                                     '%.6':'Ethnic Origin 7 in %',\n",
        "                                                     '%.7':'Ethnic Origin 8 in %'})\n",
        "Scar_population_df"
      ],
      "execution_count": 75,
      "outputs": [
        {
          "output_type": "execute_result",
          "data": {
            "text/html": [
              "<div>\n",
              "<style scoped>\n",
              "    .dataframe tbody tr th:only-of-type {\n",
              "        vertical-align: middle;\n",
              "    }\n",
              "\n",
              "    .dataframe tbody tr th {\n",
              "        vertical-align: top;\n",
              "    }\n",
              "\n",
              "    .dataframe thead th {\n",
              "        text-align: right;\n",
              "    }\n",
              "</style>\n",
              "<table border=\"1\" class=\"dataframe\">\n",
              "  <thead>\n",
              "    <tr style=\"text-align: right;\">\n",
              "      <th></th>\n",
              "      <th>Riding</th>\n",
              "      <th>Population</th>\n",
              "      <th>Ethnic Origin #1</th>\n",
              "      <th>Ethnic Origin 1 in %</th>\n",
              "      <th>Ethnic Origin #2</th>\n",
              "      <th>Ethnic Origin 2 in %</th>\n",
              "      <th>Ethnic Origin #3</th>\n",
              "      <th>Ethnic Origin 3 in %</th>\n",
              "      <th>Ethnic Origin #4</th>\n",
              "      <th>Ethnic Origin 4 in %</th>\n",
              "      <th>Ethnic Origin #5</th>\n",
              "      <th>Ethnic Origin 5 in %</th>\n",
              "      <th>Ethnic Origin #6</th>\n",
              "      <th>Ethnic Origin 6 in %</th>\n",
              "      <th>Ethnic Origin #7</th>\n",
              "      <th>Ethnic Origin 7 in %</th>\n",
              "      <th>Ethnic Origin #8</th>\n",
              "      <th>Ethnic Origin 8 in %</th>\n",
              "    </tr>\n",
              "  </thead>\n",
              "  <tbody>\n",
              "    <tr>\n",
              "      <th>0</th>\n",
              "      <td>Scarborough Centre</td>\n",
              "      <td>110450</td>\n",
              "      <td>Filipino</td>\n",
              "      <td>13.1</td>\n",
              "      <td>East Indian</td>\n",
              "      <td>12.2</td>\n",
              "      <td>Canadian</td>\n",
              "      <td>11.2</td>\n",
              "      <td>Chinese</td>\n",
              "      <td>10.7</td>\n",
              "      <td>English</td>\n",
              "      <td>7.8</td>\n",
              "      <td>Sri Lankan</td>\n",
              "      <td>7.0</td>\n",
              "      <td>NaN</td>\n",
              "      <td>NaN</td>\n",
              "      <td>NaN</td>\n",
              "      <td>NaN</td>\n",
              "    </tr>\n",
              "    <tr>\n",
              "      <th>1</th>\n",
              "      <td>Scarborough Southwest</td>\n",
              "      <td>108295</td>\n",
              "      <td>Canadian</td>\n",
              "      <td>16.2</td>\n",
              "      <td>English</td>\n",
              "      <td>14.3</td>\n",
              "      <td>Irish</td>\n",
              "      <td>11.5</td>\n",
              "      <td>Scottish</td>\n",
              "      <td>10.9</td>\n",
              "      <td>Filipino</td>\n",
              "      <td>9.5</td>\n",
              "      <td>East Indian</td>\n",
              "      <td>8.2</td>\n",
              "      <td>Chinese</td>\n",
              "      <td>7.2</td>\n",
              "      <td>NaN</td>\n",
              "      <td>NaN</td>\n",
              "    </tr>\n",
              "    <tr>\n",
              "      <th>2</th>\n",
              "      <td>Scarborough-Agincourt</td>\n",
              "      <td>104225</td>\n",
              "      <td>Chinese</td>\n",
              "      <td>47.0</td>\n",
              "      <td>East Indian</td>\n",
              "      <td>7.4</td>\n",
              "      <td>NaN</td>\n",
              "      <td>NaN</td>\n",
              "      <td>NaN</td>\n",
              "      <td>NaN</td>\n",
              "      <td>NaN</td>\n",
              "      <td>NaN</td>\n",
              "      <td>NaN</td>\n",
              "      <td>NaN</td>\n",
              "      <td>NaN</td>\n",
              "      <td>NaN</td>\n",
              "      <td>NaN</td>\n",
              "      <td>NaN</td>\n",
              "    </tr>\n",
              "    <tr>\n",
              "      <th>3</th>\n",
              "      <td>Scarborough-Rouge Park</td>\n",
              "      <td>101445</td>\n",
              "      <td>East Indian</td>\n",
              "      <td>16.7</td>\n",
              "      <td>Canadian</td>\n",
              "      <td>11.8</td>\n",
              "      <td>Sri Lankan</td>\n",
              "      <td>11.1</td>\n",
              "      <td>English</td>\n",
              "      <td>9.8</td>\n",
              "      <td>Filipino</td>\n",
              "      <td>9.3</td>\n",
              "      <td>Jamaican</td>\n",
              "      <td>8.4</td>\n",
              "      <td>Scottish</td>\n",
              "      <td>7.2</td>\n",
              "      <td>Irish</td>\n",
              "      <td>7.0</td>\n",
              "    </tr>\n",
              "    <tr>\n",
              "      <th>4</th>\n",
              "      <td>Scarborough-Guildwood</td>\n",
              "      <td>101115</td>\n",
              "      <td>East Indian</td>\n",
              "      <td>18.0</td>\n",
              "      <td>Canadian</td>\n",
              "      <td>11.6</td>\n",
              "      <td>English</td>\n",
              "      <td>9.7</td>\n",
              "      <td>Filipino</td>\n",
              "      <td>8.5</td>\n",
              "      <td>Sri Lankan</td>\n",
              "      <td>7.8</td>\n",
              "      <td>Chinese</td>\n",
              "      <td>7.1</td>\n",
              "      <td>Scottish</td>\n",
              "      <td>7.0</td>\n",
              "      <td>NaN</td>\n",
              "      <td>NaN</td>\n",
              "    </tr>\n",
              "    <tr>\n",
              "      <th>5</th>\n",
              "      <td>Scarborough North</td>\n",
              "      <td>97610</td>\n",
              "      <td>Chinese</td>\n",
              "      <td>46.6</td>\n",
              "      <td>East Indian</td>\n",
              "      <td>11.8</td>\n",
              "      <td>Sri Lankan</td>\n",
              "      <td>9.4</td>\n",
              "      <td>NaN</td>\n",
              "      <td>NaN</td>\n",
              "      <td>NaN</td>\n",
              "      <td>NaN</td>\n",
              "      <td>NaN</td>\n",
              "      <td>NaN</td>\n",
              "      <td>NaN</td>\n",
              "      <td>NaN</td>\n",
              "      <td>NaN</td>\n",
              "      <td>NaN</td>\n",
              "    </tr>\n",
              "  </tbody>\n",
              "</table>\n",
              "</div>"
            ],
            "text/plain": [
              "                   Riding  Population  ... Ethnic Origin #8  Ethnic Origin 8 in %\n",
              "0      Scarborough Centre      110450  ...              NaN                   NaN\n",
              "1   Scarborough Southwest      108295  ...              NaN                   NaN\n",
              "2   Scarborough-Agincourt      104225  ...              NaN                   NaN\n",
              "3  Scarborough-Rouge Park      101445  ...            Irish                   7.0\n",
              "4   Scarborough-Guildwood      101115  ...              NaN                   NaN\n",
              "5       Scarborough North       97610  ...              NaN                   NaN\n",
              "\n",
              "[6 rows x 18 columns]"
            ]
          },
          "metadata": {
            "tags": []
          },
          "execution_count": 75
        }
      ]
    },
    {
      "cell_type": "code",
      "metadata": {
        "id": "GCv6IqHTsKEZ",
        "colab": {
          "base_uri": "https://localhost:8080/",
          "height": 313
        },
        "outputId": "3732290f-da07-4b8b-e9d5-24dba81356ac"
      },
      "source": [
        "#ETOBICOKE & YORK population distribution by ethnicity \n",
        "ETY_population_df = pd.read_html(html, header = 0)[15]\n",
        "ETY_population_df = ETY_population_df.rename(columns={'%':'Ethnic Origin 1 in %', \n",
        "                                                      '%.1':'Ethnic Origin 2 in %',\n",
        "                                                     '%.2':'Ethnic Origin 3 in %',\n",
        "                                                     '%.3':'Ethnic Origin 4 in %',\n",
        "                                                     '%.4':'Ethnic Origin 5 in %',\n",
        "                                                     '%.5':'Ethnic Origin 6 in %',\n",
        "                                                     '%.6':'Ethnic Origin 7 in %',\n",
        "                                                     '%.7':'Ethnic Origin 8 in %'})\n",
        "ETY_population_df\n",
        "\n"
      ],
      "execution_count": 76,
      "outputs": [
        {
          "output_type": "execute_result",
          "data": {
            "text/html": [
              "<div>\n",
              "<style scoped>\n",
              "    .dataframe tbody tr th:only-of-type {\n",
              "        vertical-align: middle;\n",
              "    }\n",
              "\n",
              "    .dataframe tbody tr th {\n",
              "        vertical-align: top;\n",
              "    }\n",
              "\n",
              "    .dataframe thead th {\n",
              "        text-align: right;\n",
              "    }\n",
              "</style>\n",
              "<table border=\"1\" class=\"dataframe\">\n",
              "  <thead>\n",
              "    <tr style=\"text-align: right;\">\n",
              "      <th></th>\n",
              "      <th>Riding</th>\n",
              "      <th>Population</th>\n",
              "      <th>Ethnic Origin #1</th>\n",
              "      <th>Ethnic Origin 1 in %</th>\n",
              "      <th>Ethnic Origin #2</th>\n",
              "      <th>Ethnic Origin 2 in %</th>\n",
              "      <th>Ethnic Origin #3</th>\n",
              "      <th>Ethnic Origin 3 in %</th>\n",
              "      <th>Ethnic Origin #4</th>\n",
              "      <th>Ethnic Origin 4 in %</th>\n",
              "      <th>Ethnic Origin #5</th>\n",
              "      <th>Ethnic Origin 5 in %</th>\n",
              "      <th>Ethnic Origin #6</th>\n",
              "      <th>Ethnic Origin 6 in %</th>\n",
              "      <th>Ethnic Origin #7</th>\n",
              "      <th>Ethnic Origin 7 in %</th>\n",
              "      <th>Ethnic Origin #8</th>\n",
              "      <th>Ethnic Origin 8 in %</th>\n",
              "    </tr>\n",
              "  </thead>\n",
              "  <tbody>\n",
              "    <tr>\n",
              "      <th>0</th>\n",
              "      <td>Etobicoke-Lakeshore</td>\n",
              "      <td>127520</td>\n",
              "      <td>English</td>\n",
              "      <td>17.1</td>\n",
              "      <td>Canadian</td>\n",
              "      <td>15.9</td>\n",
              "      <td>Irish</td>\n",
              "      <td>14.4</td>\n",
              "      <td>Scottish</td>\n",
              "      <td>13.5</td>\n",
              "      <td>Polish</td>\n",
              "      <td>9.2</td>\n",
              "      <td>Italian</td>\n",
              "      <td>9.1</td>\n",
              "      <td>Ukrainian</td>\n",
              "      <td>7.6</td>\n",
              "      <td>German</td>\n",
              "      <td>7.1</td>\n",
              "    </tr>\n",
              "    <tr>\n",
              "      <th>1</th>\n",
              "      <td>Etobicoke North</td>\n",
              "      <td>116960</td>\n",
              "      <td>East Indian</td>\n",
              "      <td>22.2</td>\n",
              "      <td>Canadian</td>\n",
              "      <td>7.9</td>\n",
              "      <td>NaN</td>\n",
              "      <td>NaN</td>\n",
              "      <td>NaN</td>\n",
              "      <td>NaN</td>\n",
              "      <td>NaN</td>\n",
              "      <td>NaN</td>\n",
              "      <td>NaN</td>\n",
              "      <td>NaN</td>\n",
              "      <td>NaN</td>\n",
              "      <td>NaN</td>\n",
              "      <td>NaN</td>\n",
              "      <td>NaN</td>\n",
              "    </tr>\n",
              "    <tr>\n",
              "      <th>2</th>\n",
              "      <td>Etobicoke Centre</td>\n",
              "      <td>116055</td>\n",
              "      <td>Italian</td>\n",
              "      <td>15.1</td>\n",
              "      <td>English</td>\n",
              "      <td>14.3</td>\n",
              "      <td>Canadian</td>\n",
              "      <td>12.1</td>\n",
              "      <td>Irish</td>\n",
              "      <td>10.8</td>\n",
              "      <td>Scottish</td>\n",
              "      <td>10.4</td>\n",
              "      <td>Ukrainian</td>\n",
              "      <td>8.1</td>\n",
              "      <td>Polish</td>\n",
              "      <td>7.4</td>\n",
              "      <td>NaN</td>\n",
              "      <td>NaN</td>\n",
              "    </tr>\n",
              "    <tr>\n",
              "      <th>3</th>\n",
              "      <td>York South-Weston</td>\n",
              "      <td>115130</td>\n",
              "      <td>Portuguese</td>\n",
              "      <td>14.5</td>\n",
              "      <td>Italian</td>\n",
              "      <td>12.8</td>\n",
              "      <td>Canadian</td>\n",
              "      <td>8.7</td>\n",
              "      <td>Jamaican</td>\n",
              "      <td>8.4</td>\n",
              "      <td>NaN</td>\n",
              "      <td>NaN</td>\n",
              "      <td>NaN</td>\n",
              "      <td>NaN</td>\n",
              "      <td>NaN</td>\n",
              "      <td>NaN</td>\n",
              "      <td>NaN</td>\n",
              "      <td>NaN</td>\n",
              "    </tr>\n",
              "  </tbody>\n",
              "</table>\n",
              "</div>"
            ],
            "text/plain": [
              "                Riding  Population  ... Ethnic Origin #8  Ethnic Origin 8 in %\n",
              "0  Etobicoke-Lakeshore      127520  ...           German                   7.1\n",
              "1      Etobicoke North      116960  ...              NaN                   NaN\n",
              "2     Etobicoke Centre      116055  ...              NaN                   NaN\n",
              "3    York South-Weston      115130  ...              NaN                   NaN\n",
              "\n",
              "[4 rows x 18 columns]"
            ]
          },
          "metadata": {
            "tags": []
          },
          "execution_count": 76
        }
      ]
    },
    {
      "cell_type": "markdown",
      "metadata": {
        "id": "XQ38xUsesKEZ"
      },
      "source": [
        "<h4>d) Get location data using Foursquare</h4>"
      ]
    },
    {
      "cell_type": "markdown",
      "metadata": {
        "id": "1_vDHSjesKEZ"
      },
      "source": [
        "Foursquare API is very usefule online application used my many developers & other application like Uber etc. In this project I have used it to retrieve informtion about the places present in the neighborhoods of Toronto. The API returns a JSON file and we need to turn that into a data-frame. Here I’ve chosen 100 popular spots for each neighborhood within a radius of 1km. \n",
        "\n"
      ]
    },
    {
      "cell_type": "code",
      "metadata": {
        "id": "j3P5TtessKEa"
      },
      "source": [
        "from geopy.geocoders import Nominatim # convert an address into latitude and longitude values\n",
        "import folium # map rendering library"
      ],
      "execution_count": 77,
      "outputs": []
    },
    {
      "cell_type": "code",
      "metadata": {
        "id": "s39wBk6tsKEa",
        "colab": {
          "base_uri": "https://localhost:8080/"
        },
        "outputId": "3625b6ad-a6c3-45ee-c6ab-3c36f89b1f03"
      },
      "source": [
        "#Use geopy library to get the latitude and longitude values of New York City.\n",
        "\n",
        "address = 'Toronto'\n",
        "\n",
        "geolocator = Nominatim(user_agent=\"ny_explorer\")\n",
        "location = geolocator.geocode(address)\n",
        "latitude = location.latitude\n",
        "longitude = location.longitude\n",
        "print('The geograpical coordinate of Toronto are {}, {}.'.format(latitude, longitude))"
      ],
      "execution_count": 78,
      "outputs": [
        {
          "output_type": "stream",
          "text": [
            "The geograpical coordinate of Toronto are 43.6534817, -79.3839347.\n"
          ],
          "name": "stdout"
        }
      ]
    },
    {
      "cell_type": "markdown",
      "metadata": {
        "id": "QFBpepKXUMcH"
      },
      "source": [
        "Defining Foursquare credentials"
      ]
    },
    {
      "cell_type": "code",
      "metadata": {
        "id": "TFO0IBhdUJ2F"
      },
      "source": [
        "CLIENT_ID = '1CETT04VB4CLSAGO1IXLCHKKZHVZRSETNG0TXNWYPDA4SEY0' # your Foursquare ID\r\n",
        "CLIENT_SECRET = 'Y2GSJIWDGC45VYYYGMV0ASLAC5FI21JECGRODK5GIRC31C0K' # your Foursquare Secret\r\n",
        "ACCESS_TOKEN = 'RR1BSSE2OGRMAEYF3YDUYQ0AIDNGDXNM10VZ04ZZZ3DGLQYZ' # your FourSquare Access Token\r\n",
        "VERSION = '20200605' # Foursquare API version\r\n",
        "LIMIT = 100 # A default Foursquare API limit value"
      ],
      "execution_count": 79,
      "outputs": []
    },
    {
      "cell_type": "code",
      "metadata": {
        "id": "52O2gq_0sKEa"
      },
      "source": [
        "radius=1000\n",
        "url = 'https://api.foursquare.com/v2/venues/explore?client_id={}&client_secret={}&ll={},{}&v={}&radius={}'.format(CLIENT_ID, CLIENT_SECRET, latitude, longitude, VERSION, radius)\n",
        "results = requests.get(url).json()\n"
      ],
      "execution_count": 80,
      "outputs": []
    },
    {
      "cell_type": "code",
      "metadata": {
        "id": "5NeoiJX9sKEb"
      },
      "source": [
        "#Function to get the category\n",
        "\n",
        "def get_category_type(row):\n",
        "    try:\n",
        "        categories_list = row['categories']\n",
        "    except:\n",
        "        categories_list = row['venue.categories']\n",
        "\n",
        "    if len(categories_list) == 0:\n",
        "        return None\n",
        "    else:\n",
        "        return categories_list[0]['name']"
      ],
      "execution_count": 81,
      "outputs": []
    },
    {
      "cell_type": "markdown",
      "metadata": {
        "id": "3aByYmS1sKEb"
      },
      "source": [
        "Using the get_category_type function, we clean up the json and turn it into a pandas dataframe. Before we start that we need to import certain libraries."
      ]
    },
    {
      "cell_type": "code",
      "metadata": {
        "id": "rvIEAzHBsKEb",
        "colab": {
          "base_uri": "https://localhost:8080/",
          "height": 257
        },
        "outputId": "12991079-c903-4e88-f6d3-4c29db0b366b"
      },
      "source": [
        "import json\n",
        "from pandas.io.json import json_normalize\n",
        "\n",
        "venues = results['response']['groups'][0]['items']\n",
        "\n",
        "nearby_venues = json_normalize(venues) # flatten JSON\n",
        "\n",
        "filtered_columns = ['venue.name', 'venue.categories', 'venue.location.lat', 'venue.location.lng']\n",
        "nearby_venues =nearby_venues.loc[:, filtered_columns]\n",
        "\n",
        "nearby_venues['venue.categories'] = nearby_venues.apply(get_category_type, axis=1)\n",
        "\n",
        "nearby_venues.columns = [col.split(\".\")[-1] for col in nearby_venues.columns]\n",
        "\n",
        "nearby_venues.head()"
      ],
      "execution_count": 82,
      "outputs": [
        {
          "output_type": "stream",
          "text": [
            "/usr/local/lib/python3.7/dist-packages/ipykernel_launcher.py:6: FutureWarning: pandas.io.json.json_normalize is deprecated, use pandas.json_normalize instead\n",
            "  \n"
          ],
          "name": "stderr"
        },
        {
          "output_type": "execute_result",
          "data": {
            "text/html": [
              "<div>\n",
              "<style scoped>\n",
              "    .dataframe tbody tr th:only-of-type {\n",
              "        vertical-align: middle;\n",
              "    }\n",
              "\n",
              "    .dataframe tbody tr th {\n",
              "        vertical-align: top;\n",
              "    }\n",
              "\n",
              "    .dataframe thead th {\n",
              "        text-align: right;\n",
              "    }\n",
              "</style>\n",
              "<table border=\"1\" class=\"dataframe\">\n",
              "  <thead>\n",
              "    <tr style=\"text-align: right;\">\n",
              "      <th></th>\n",
              "      <th>name</th>\n",
              "      <th>categories</th>\n",
              "      <th>lat</th>\n",
              "      <th>lng</th>\n",
              "    </tr>\n",
              "  </thead>\n",
              "  <tbody>\n",
              "    <tr>\n",
              "      <th>0</th>\n",
              "      <td>Downtown Toronto</td>\n",
              "      <td>Neighborhood</td>\n",
              "      <td>43.653232</td>\n",
              "      <td>-79.385296</td>\n",
              "    </tr>\n",
              "    <tr>\n",
              "      <th>1</th>\n",
              "      <td>Nathan Phillips Square</td>\n",
              "      <td>Plaza</td>\n",
              "      <td>43.652270</td>\n",
              "      <td>-79.383516</td>\n",
              "    </tr>\n",
              "    <tr>\n",
              "      <th>2</th>\n",
              "      <td>Japango</td>\n",
              "      <td>Sushi Restaurant</td>\n",
              "      <td>43.655268</td>\n",
              "      <td>-79.385165</td>\n",
              "    </tr>\n",
              "    <tr>\n",
              "      <th>3</th>\n",
              "      <td>Indigo</td>\n",
              "      <td>Bookstore</td>\n",
              "      <td>43.653515</td>\n",
              "      <td>-79.380696</td>\n",
              "    </tr>\n",
              "    <tr>\n",
              "      <th>4</th>\n",
              "      <td>Chatime 日出茶太</td>\n",
              "      <td>Bubble Tea Shop</td>\n",
              "      <td>43.655542</td>\n",
              "      <td>-79.384684</td>\n",
              "    </tr>\n",
              "  </tbody>\n",
              "</table>\n",
              "</div>"
            ],
            "text/plain": [
              "                     name        categories        lat        lng\n",
              "0        Downtown Toronto      Neighborhood  43.653232 -79.385296\n",
              "1  Nathan Phillips Square             Plaza  43.652270 -79.383516\n",
              "2                 Japango  Sushi Restaurant  43.655268 -79.385165\n",
              "3                  Indigo         Bookstore  43.653515 -79.380696\n",
              "4            Chatime 日出茶太   Bubble Tea Shop  43.655542 -79.384684"
            ]
          },
          "metadata": {
            "tags": []
          },
          "execution_count": 82
        }
      ]
    },
    {
      "cell_type": "markdown",
      "metadata": {
        "id": "61rQhWwlsKEb"
      },
      "source": [
        "Now we can explore the nearby venues!"
      ]
    },
    {
      "cell_type": "code",
      "metadata": {
        "id": "KnzCXIHrsKEb"
      },
      "source": [
        "def getNearbyVenues(names, latitudes, longitudes, radius=500):\n",
        "    \n",
        "    venues_list=[]\n",
        "    for name, lat, lng in zip(names, latitudes, longitudes):\n",
        "        print(name)\n",
        "            \n",
        "        # create the API request URL\n",
        "        url = 'https://api.foursquare.com/v2/venues/explore?&client_id={}&client_secret={}&v={}&ll={},{}&radius={}&limit={}'.format(\n",
        "            CLIENT_ID, \n",
        "            CLIENT_SECRET, \n",
        "            VERSION, \n",
        "            lat, \n",
        "            lng, \n",
        "            radius, \n",
        "            LIMIT)\n",
        "            \n",
        "        # make the GET request\n",
        "        results = requests.get(url).json()[\"response\"]['groups'][0]['items']\n",
        "        \n",
        "        # return only relevant information for each nearby venue\n",
        "        venues_list.append([(\n",
        "            name, \n",
        "            lat, \n",
        "            lng, \n",
        "            v['venue']['name'], \n",
        "            v['venue']['location']['lat'], \n",
        "            v['venue']['location']['lng'],  \n",
        "            v['venue']['categories'][0]['name']) for v in results])\n",
        "\n",
        "    nearby_venues = pd.DataFrame([item for venue_list in venues_list for item in venue_list])\n",
        "    nearby_venues.columns = ['Neighborhood', \n",
        "                  'Neighborhood Latitude', \n",
        "                  'Neighborhood Longitude', \n",
        "                  'Venue', \n",
        "                  'Venue Latitude', \n",
        "                  'Venue Longitude', \n",
        "                  'Venue Category']\n",
        "    \n",
        "    return(nearby_venues)"
      ],
      "execution_count": 83,
      "outputs": []
    },
    {
      "cell_type": "code",
      "metadata": {
        "id": "zCbJYkyWsKEc",
        "colab": {
          "base_uri": "https://localhost:8080/"
        },
        "outputId": "d0131410-215e-44ae-88a3-d8e122f62589"
      },
      "source": [
        "LIMIT = 100\n",
        "toronto_venues = getNearbyVenues(names=toronto_DF['Neighborhood'],\n",
        "                                   latitudes=toronto_DF['Latitude'],\n",
        "                                   longitudes=toronto_DF['Longitude']\n",
        "                                  )"
      ],
      "execution_count": null,
      "outputs": [
        {
          "output_type": "stream",
          "text": [
            "Lawrence Park\n",
            "Davisville North\n",
            "North Toronto West, Lawrence Park\n",
            "Davisville\n",
            "Moore Park, Summerhill East\n",
            "Summerhill West, Rathnelly, South Hill, Forest Hill SE, Deer Park\n",
            "Roselawn\n",
            "Forest Hill North & West, Forest Hill Road Park\n",
            "The Annex, North Midtown, Yorkville\n",
            "Rosedale\n",
            "St. James Town, Cabbagetown\n",
            "Church and Wellesley\n",
            "Regent Park, Harbourfront\n",
            "Garden District, Ryerson\n",
            "St. James Town\n",
            "Berczy Park\n",
            "Central Bay Street\n",
            "Richmond, Adelaide, King\n",
            "Harbourfront East, Union Station, Toronto Islands\n",
            "Toronto Dominion Centre, Design Exchange\n",
            "Commerce Court, Victoria Hotel\n",
            "University of Toronto, Harbord\n",
            "Kensington Market, Chinatown, Grange Park\n",
            "CN Tower, King and Spadina, Railway Lands, Harbourfront West, Bathurst Quay, South Niagara, Island airport\n",
            "Stn A PO Boxes\n",
            "First Canadian Place, Underground city\n",
            "Christie\n",
            "Queen's Park, Ontario Provincial Government\n",
            "The Beaches\n",
            "The Danforth West, Riverdale\n",
            "India Bazaar, The Beaches West\n",
            "Studio District\n",
            "Business reply mail Processing Centre, South Central Letter Processing Plant Toronto\n",
            "Parkview Hill, Woodbine Gardens\n",
            "Woodbine Heights\n",
            "Leaside\n",
            "Thorncliffe Park\n",
            "East Toronto, Broadview North (Old East York)\n",
            "New Toronto, Mimico South, Humber Bay Shores\n",
            "Alderwood, Long Branch\n",
            "The Kingsway, Montgomery Road, Old Mill North\n",
            "Old Mill South, King's Mill Park, Sunnylea, Humber Bay, Mimico NE, The Queensway East, Royal York South East, Kingsway Park South East\n",
            "Mimico NW, The Queensway West, South of Bloor, Kingsway Park South West, Royal York South West\n",
            "Islington Avenue, Humber Valley Village\n",
            "West Deane Park, Princess Gardens, Martin Grove, Islington, Cloverdale\n",
            "Eringate, Bloordale Gardens, Old Burnhamthorpe, Markland Wood\n",
            "Westmount\n",
            "Kingsview Village, St. Phillips, Martin Grove Gardens, Richview Gardens\n",
            "South Steeles, Silverstone, Humbergate, Jamestown, Mount Olive, Beaumond Heights, Thistletown, Albion Gardens\n",
            "Northwest, West Humber - Clairville\n",
            "Canada Post Gateway Processing Centre\n",
            "Hillcrest Village\n",
            "Fairview, Henry Farm, Oriole\n",
            "Bayview Village\n",
            "York Mills, Silver Hills\n",
            "Willowdale, Newtonbrook\n",
            "Willowdale, Willowdale East\n"
          ],
          "name": "stdout"
        }
      ]
    },
    {
      "cell_type": "code",
      "metadata": {
        "id": "3g_JFcCesKEc"
      },
      "source": [
        "toronto_venues.head(10)"
      ],
      "execution_count": null,
      "outputs": []
    },
    {
      "cell_type": "code",
      "metadata": {
        "id": "yZ4ZJTDHsKEc"
      },
      "source": [
        "toronto_venues.groupby('Neighborhood').count()\n"
      ],
      "execution_count": null,
      "outputs": []
    },
    {
      "cell_type": "code",
      "metadata": {
        "id": "dCgLeK4vsKEc"
      },
      "source": [
        "print('There are {} uniques categories.'.format(len(toronto_venues['Venue Category'].unique())))\n"
      ],
      "execution_count": null,
      "outputs": []
    },
    {
      "cell_type": "markdown",
      "metadata": {
        "id": "BFLGVQ3OsKEd"
      },
      "source": [
        "There are 274 unique categories in which Indian Restaurant is one of them. We will do one hot encoding for getting dummies of venue category. So that we will calculate mean of all venue groupby there neighborhoods.\n"
      ]
    },
    {
      "cell_type": "code",
      "metadata": {
        "id": "88NeT_w-sKEd"
      },
      "source": [
        "toronto_onehot = pd.get_dummies(toronto_venues[['Venue Category']], prefix=\"\", prefix_sep=\"\")\n",
        "\n",
        "toronto_onehot['Neighborhood'] = toronto_venues['Neighborhood']\n",
        "\n",
        "fixed_columns = [toronto_onehot.columns[-1]] + list(toronto_onehot.columns[:-1])\n",
        "toronto_onehot = toronto_onehot[fixed_columns]\n",
        "toronto_grouped = toronto_onehot.groupby('Neighborhood').mean().reset_index()\n",
        "toronto_grouped\n",
        "\n"
      ],
      "execution_count": null,
      "outputs": []
    },
    {
      "cell_type": "code",
      "metadata": {
        "id": "ji9xBNT1sKEd"
      },
      "source": [
        "print (toronto_venues['Venue Category'].value_counts())\n"
      ],
      "execution_count": null,
      "outputs": []
    },
    {
      "cell_type": "markdown",
      "metadata": {
        "id": "FWrQqiL0sKEd"
      },
      "source": [
        "<h2>3. Exploratory Data Analysis</h2>\n"
      ]
    },
    {
      "cell_type": "markdown",
      "metadata": {
        "id": "gT7tqsuBsKEd"
      },
      "source": [
        "<h3>3.1 Folium Library and Leaflet Map</h3>"
      ]
    },
    {
      "cell_type": "markdown",
      "metadata": {
        "id": "rwNSwwlmsKEe"
      },
      "source": [
        "Folium is a python library, I'm using it to draw an interactive leaflet map using coordinate data. \n"
      ]
    },
    {
      "cell_type": "code",
      "metadata": {
        "id": "wC0JoQv4sKEe"
      },
      "source": [
        "# create map of New York using latitude and longitude values\n",
        "map_toronto = folium.Map(location=[latitude, longitude], zoom_start=10)\n",
        "\n",
        "# add markers to map\n",
        "for lat, lng, borough, neighborhood in zip(toronto_DF['Latitude'], toronto_DF['Longitude'], toronto_DF['Borough'], toronto_DF['Neighborhood']):\n",
        "    label = '{},{}'.format(neighborhood, borough)\n",
        "    label = folium.Popup(label, parse_html=True)\n",
        "    folium.CircleMarker(\n",
        "        [lat, lng],\n",
        "        radius=5,\n",
        "        popup=label,\n",
        "        color='blue',\n",
        "        fill=True,\n",
        "        fill_color='#3186cc',\n",
        "        fill_opacity=0.7,\n",
        "        parse_html=False).add_to(map_toronto)  \n",
        "    \n",
        "map_toronto"
      ],
      "execution_count": null,
      "outputs": []
    },
    {
      "cell_type": "markdown",
      "metadata": {
        "id": "iCzrA7Z1sKEe"
      },
      "source": [
        "<h3>3.2 Relationship between neighborhood and Indian Restaurant </h3>"
      ]
    },
    {
      "cell_type": "markdown",
      "metadata": {
        "id": "F3CGFwV5sKEe"
      },
      "source": [
        "First we will extract the Neighborhood and Indian Restaurant column from the above toronto dataframe for further analysis:"
      ]
    },
    {
      "cell_type": "code",
      "metadata": {
        "id": "_kkx2Gy3sKEe"
      },
      "source": [
        "toronto_part = toronto_grouped[['Neighborhood', 'Indian Restaurant']]\n",
        "toronto_part"
      ],
      "execution_count": null,
      "outputs": []
    },
    {
      "cell_type": "code",
      "metadata": {
        "scrolled": true,
        "id": "uXgAIr3esKEe"
      },
      "source": [
        "toronto_merged = pd.merge(toronto_DF, toronto_part, on='Neighborhood')\n",
        "toronto_merged"
      ],
      "execution_count": null,
      "outputs": []
    },
    {
      "cell_type": "code",
      "metadata": {
        "id": "UJG2cw45sKEf"
      },
      "source": [
        "# Let's try Categorical plot \n",
        "\n",
        "%matplotlib inline\n",
        "\n",
        "import matplotlib as mpl\n",
        "import matplotlib.pyplot as plt\n",
        "import seaborn as sns\n",
        "\n",
        "\n",
        "fig = plt.figure(figsize=(19,9))\n",
        "\n",
        "sns.set(font_scale=1.1)\n",
        "sns.violinplot(y=\"Indian Restaurant\", x=\"Borough\", data=toronto_merged, cut=0);\n",
        "\n",
        "plt.title('Violin plots of Indian restaurants in Borough of Toronto', fontsize=14)\n",
        "plt.show()"
      ],
      "execution_count": null,
      "outputs": []
    },
    {
      "cell_type": "markdown",
      "metadata": {
        "id": "mAyq6211sKEf"
      },
      "source": [
        "This plot helps in identifying the boroughs with densely populated Indian restaurants.  "
      ]
    },
    {
      "cell_type": "markdown",
      "metadata": {
        "id": "4ex9M9wnsKEf"
      },
      "source": [
        "Lets visualize the neighborhood with Indian Restaurants"
      ]
    },
    {
      "cell_type": "code",
      "metadata": {
        "id": "LR7QMBiCsKEf"
      },
      "source": [
        "graph = pd.DataFrame(toronto_onehot.groupby('Neighborhood')['Indian Restaurant'].sum())\n",
        "graph = graph.sort_values(by ='Indian Restaurant', ascending=False)\n",
        "graph.iloc[:14].plot(kind='bar', figsize=(10,6))\n",
        "plt.xlabel(\"Neighborhoods\")\n",
        "plt.ylabel(\"No of Indian Restaurant\")\n",
        "plt.title(\"Neighborhoods vs No of Indian Restaurant\")\n",
        "plt.show()\n"
      ],
      "execution_count": null,
      "outputs": []
    },
    {
      "cell_type": "markdown",
      "metadata": {
        "id": "TZmPsPcOsKEg"
      },
      "source": [
        "<h3>3.3 Relationship between neighborhood and Indian popultion </h3>"
      ]
    },
    {
      "cell_type": "code",
      "metadata": {
        "id": "WxmCCPfYsKEg"
      },
      "source": [
        "#Merge all the population table with the ethnic percentage by neighborhood\n",
        "ET = ETY_population_df.append(TEY_population_df,sort=True).reset_index()\n",
        "ET.drop('index',axis=1,inplace=True)\n",
        "SN = North_population_df.append(Scar_population_df,sort=True).reset_index()\n",
        "SN.drop('index',axis=1,inplace=True)\n",
        "pop_ethnic_df = SN.append(ET,sort=True).reset_index()\n",
        "pop_ethnic_df.drop('index',axis=1,inplace=True)\n",
        "pop_ethnic_df = pop_ethnic_df[['Riding', 'Population','Ethnic Origin #1', 'Ethnic Origin 1 in %','Ethnic Origin #2', 'Ethnic Origin 2 in %',\n",
        "                               'Ethnic Origin #3','Ethnic Origin 3 in %','Ethnic Origin #4', 'Ethnic Origin 4 in %','Ethnic Origin #5','Ethnic Origin 5 in %', \n",
        "                               'Ethnic Origin #6','Ethnic Origin 6 in %','Ethnic Origin #7', 'Ethnic Origin 7 in %','Ethnic Origin #8', 'Ethnic Origin 8 in %',\n",
        "                               'Ethnic Origin #9','Ethnic Origin 9 in %',\n",
        "                              ]]\n",
        "pop_ethnic_df"
      ],
      "execution_count": null,
      "outputs": []
    },
    {
      "cell_type": "markdown",
      "metadata": {
        "id": "dsdRwoaVsKEg"
      },
      "source": [
        "From the above dataframe we can pickout the neighborhoods with highest Indian population percentage by using the below given method. "
      ]
    },
    {
      "cell_type": "code",
      "metadata": {
        "id": "J-cHEMXxsKEg"
      },
      "source": [
        "#Filtering the riding with Indian ethnic crowd\n",
        "temp = pop_ethnic_df.loc[(pop_ethnic_df['Ethnic Origin #1'] == 'East Indian')| \n",
        "                                      (pop_ethnic_df['Ethnic Origin #2'] == 'East Indian')|\n",
        "                                      (pop_ethnic_df['Ethnic Origin #3'] == 'East Indian')|\n",
        "                                      (pop_ethnic_df['Ethnic Origin #4'] == 'East Indian')|\n",
        "                                      (pop_ethnic_df['Ethnic Origin #5'] == 'East Indian')|\n",
        "                                      (pop_ethnic_df['Ethnic Origin #6'] == 'East Indian')|\n",
        "                                      (pop_ethnic_df['Ethnic Origin #7'] == 'East Indian')|\n",
        "                                      (pop_ethnic_df['Ethnic Origin #8'] == 'East Indian')|\n",
        "                                      (pop_ethnic_df['Ethnic Origin #9'] == 'East Indian')]\n",
        "pop_indian_df = pd.DataFrame(temp).reset_index()\n",
        "pop_indian_df.drop('index',axis=1,inplace=True)\n",
        "\n",
        "pop_indian_df\n"
      ],
      "execution_count": null,
      "outputs": []
    },
    {
      "cell_type": "code",
      "metadata": {
        "id": "h0Wla-yGsKEg"
      },
      "source": [
        "#retaining only Indian ethnic percentage & the neighborhood name \n",
        "columns_list = pop_indian_df.columns.to_list()\n",
        "pop_indian_DF_with_percent = pd.DataFrame()\n",
        "#removing Riding & Population from the column names list\n",
        "del columns_list[0]\n",
        "del columns_list[0]\n",
        "\n",
        "\n",
        "for i in range(0,pop_indian_df.shape[0]):\n",
        "    for j in columns_list:\n",
        "        print(j)\n",
        "        if pop_indian_df.at[i, j] == 'East Indian':\n",
        "            k = columns_list.index(j) + 1\n",
        "            percent_col = columns_list[k]\n",
        "            pop_indian_DF_with_percent = pop_indian_DF_with_percent.append({'Riding':pop_indian_df.at[i, 'Riding'], 'Population':pop_indian_df.at[i, 'Population']\n",
        "                                                                           , 'Ethnicity': pop_indian_df.at[i, j], 'Percentage': pop_indian_df.at[i, percent_col]},ignore_index=True)\n",
        "\n",
        "pop_indian_DF_with_percent      "
      ],
      "execution_count": null,
      "outputs": []
    },
    {
      "cell_type": "code",
      "metadata": {
        "id": "5HSCk5UOsKEh"
      },
      "source": [
        "pop_indian_DF_with_percent['Indian Population'] = (pop_indian_DF_with_percent['Percentage'] * pop_indian_DF_with_percent['Population'])/100\n",
        "pop_indian_DF_with_percent.drop(columns={'Percentage','Population','Ethnicity'},axis=1, inplace =True)\n",
        "pop_indian_DF_with_percent.drop_duplicates(keep='first',inplace=True) \n",
        "pop_indian_DF_with_percent"
      ],
      "execution_count": null,
      "outputs": []
    },
    {
      "cell_type": "code",
      "metadata": {
        "id": "DQ8NCYB-sKEh"
      },
      "source": [
        "bar_graph = pop_indian_DF_with_percent.sort_values(by='Indian Population', ascending=False)\n",
        "bar_graph.plot(kind='bar',x='Riding', y='Indian Population',figsize=(12,8), color='brown')\n",
        "plt.title(\"Indian Population in each Neighborhood\")\n",
        "plt.xlabel(\"Neighborhoods\")\n",
        "plt.ylabel(\"Population\")\n",
        "plt.show()"
      ],
      "execution_count": null,
      "outputs": []
    },
    {
      "cell_type": "markdown",
      "metadata": {
        "id": "4M5QmqNwsKEh"
      },
      "source": [
        "This analysis & visualization of the relationship between neighborhoods & indian population present in those neighborhoods helps us in identifying the highly populated indian neighborhoods. Once we identify those neighborhoods it helps us in deciding where to place the new Indian restaurant. Indian restaurant placed in an densely populated Indian neighborhood is more likely to get more Indian customers than a restaurant placed in a neighborhood with less or no Indian population. Thus this analysis helps in the determining the success of the new Indian restaurant. "
      ]
    },
    {
      "cell_type": "markdown",
      "metadata": {
        "id": "Cz77prDBsKEh"
      },
      "source": [
        "<h3>3.4 Relationship between Indian poplation and Indian restaurant </h3>"
      ]
    },
    {
      "cell_type": "markdown",
      "metadata": {
        "id": "21_2pP9KsKEh"
      },
      "source": [
        "First get the list of neighborhoods present in the riding using the wikipedia geography section for each riding. Altering the riding names to match the wikipedia page so we can retrieve the neighborhoods present in those ridings"
      ]
    },
    {
      "cell_type": "code",
      "metadata": {
        "scrolled": true,
        "id": "xHEbt1CcsKEi"
      },
      "source": [
        "#Altering the list to match the wikipedia page so we can retrieve the neighborhoods present in those Ridings\n",
        "riding_list = pop_indian_DF_with_percent['Riding'].to_list()\n",
        "riding_list[riding_list.index('Scarborough Centre')] = 'Scarborough Centre (electoral district)'\n",
        "riding_list[riding_list.index('Scarborough North')] = 'Scarborough North (electoral district)'\n",
        "riding_list"
      ],
      "execution_count": null,
      "outputs": []
    },
    {
      "cell_type": "code",
      "metadata": {
        "id": "UuioxRnYj3ZE"
      },
      "source": [
        "#pip install wikipedia"
      ],
      "execution_count": null,
      "outputs": []
    },
    {
      "cell_type": "code",
      "metadata": {
        "id": "K43PdEHvsKEi"
      },
      "source": [
        "#Scraping wiki page to get the neighborhoods of ech Ridings\n",
        "import  wikipedia\n",
        "\n",
        "Riding_neighborhood_df = pd.DataFrame()\n",
        "\n",
        "for item in riding_list:\n",
        "    section = wikipedia.WikipediaPage(item).section('Geography')\n",
        "    start = section.index('neighbourhoods of') + 17\n",
        "    stop = section.index('.',start)\n",
        "    Riding_neighborhood_df = Riding_neighborhood_df.append({'Riding':item, 'Neighborhoods':section[start:stop]},ignore_index=True)\n",
        "    \n",
        "\n",
        "Riding_neighborhood_df = Riding_neighborhood_df[['Riding','Neighborhoods']]\n",
        "Riding_neighborhood_df\n",
        "    "
      ],
      "execution_count": null,
      "outputs": []
    },
    {
      "cell_type": "code",
      "metadata": {
        "id": "NbgTNTa4sKEi"
      },
      "source": [
        "#Merging the pop_indian_DF_with_percent dataframe containing population information with the Riding_neighborhood_df dataframe.\n",
        "\n",
        "Neigh_pop = pd.merge(pop_indian_DF_with_percent, Riding_neighborhood_df, on='Riding')\n",
        "\n",
        "Neigh_pop.drop(columns=['Riding'],inplace =True)\n",
        "Neigh_pop\n",
        "\n"
      ],
      "execution_count": null,
      "outputs": []
    },
    {
      "cell_type": "code",
      "metadata": {
        "id": "Odhj14-IsKEi"
      },
      "source": [
        "Neigh_pop['split_neighborhoods'] = Neigh_pop['Neighborhoods'].str.split(',') \n",
        "Neigh_pop.drop(columns=['Neighborhoods'],inplace=True,axis=1)\n",
        "Neigh_pop = Neigh_pop.split_neighborhoods.apply(pd.Series).merge(Neigh_pop, left_index = True, right_index = True).drop([\"split_neighborhoods\"], axis = 1)\\\n",
        "                    .melt(id_vars = ['Indian Population'], value_name = \"Neighborhood\").drop(\"variable\", axis = 1).dropna()\n",
        "\n",
        "Neigh_pop.reset_index()\n",
        "Neigh_pop"
      ],
      "execution_count": null,
      "outputs": []
    },
    {
      "cell_type": "code",
      "metadata": {
        "id": "kZmFJuLgsKEi"
      },
      "source": [
        "\n",
        "toronto_part['split_neighborhoods'] = toronto_part['Neighborhood'].str.split(',') \n",
        "toronto_part.drop(columns=['Neighborhood'],inplace=True,axis=1)\n",
        "toronto_part = toronto_part.split_neighborhoods.apply(pd.Series).merge(toronto_part, left_index = True, right_index = True).drop([\"split_neighborhoods\"], axis = 1)\\\n",
        "                    .melt(id_vars = ['Indian Restaurant'], value_name = \"Neighborhood\").drop(\"variable\", axis = 1).dropna()\n",
        "\n",
        "toronto_part.reset_index()\n",
        "toronto_part"
      ],
      "execution_count": null,
      "outputs": []
    },
    {
      "cell_type": "code",
      "metadata": {
        "id": "tbB9tkfosKEj"
      },
      "source": [
        "pop_merged_restaurant_percent = pd.merge(Neigh_pop, toronto_part, on='Neighborhood')\n",
        "pop_merged_restaurant_percent.head()\n",
        "\n"
      ],
      "execution_count": null,
      "outputs": []
    },
    {
      "cell_type": "markdown",
      "metadata": {
        "id": "dMBcHEt2sKEj"
      },
      "source": [
        "After performing the data cleaning & data analysis we can identify that their no big relationship established in terms of the Indian population & the popular Indian restaurants. "
      ]
    },
    {
      "cell_type": "markdown",
      "metadata": {
        "id": "LrHVABT9sKEj"
      },
      "source": [
        "Thus this marks end of the data cleaning & analyses step in this project. Next we will look into the predictive modeling. In the predictive modelling we are going to use Clustering techniques since this is analysis of unlabelled data. K-Means clustering is used to perform the analysis of the data at hand. "
      ]
    },
    {
      "cell_type": "markdown",
      "metadata": {
        "id": "AaByHySKsKEj"
      },
      "source": [
        "<h2>4. Predictive Modeling</h2>\n"
      ]
    },
    {
      "cell_type": "markdown",
      "metadata": {
        "id": "bqLxj1dAsKEj"
      },
      "source": [
        "<h3>4.1 Clustering Neighborhoods of Toronto:</h3>\n"
      ]
    },
    {
      "cell_type": "markdown",
      "metadata": {
        "id": "iIVXznMcsKEk"
      },
      "source": [
        "First step in K-means clustering is to identify best K value meaning the number of clusters in a given dataset. To do so we are going to use the elbow method on the Toronto dataset with Indian restaurant percentage (i.e. toronto_merged dataframe)."
      ]
    },
    {
      "cell_type": "code",
      "metadata": {
        "id": "B-JgTLRusKEk"
      },
      "source": [
        "from sklearn.cluster import KMeans\n",
        "\n",
        "toronto_part_clustering = toronto_part.drop('Neighborhood', 1)\n",
        "\n",
        "\n",
        "error_cost = []\n",
        "\n",
        "for i in range(3,11):\n",
        "    KM = KMeans(n_clusters = i, max_iter = 100)\n",
        "    try:\n",
        "        KM.fit(toronto_part_clustering)\n",
        "    except ValueError:\n",
        "        print(\"error on line\",i)\n",
        "    \n",
        "    \n",
        "    \n",
        "    \n",
        "    #calculate squared error for the clustered points\n",
        "    error_cost.append(KM.inertia_/100)\n",
        "\n",
        "#plot the K values aganist the squared error cost\n",
        "plt.plot(range(3,11), error_cost, color='r', linewidth='3')\n",
        "plt.xlabel('K values')\n",
        "plt.ylabel('Squared Error (Cost)')\n",
        "plt.grid(color='white', linestyle='-', linewidth=2)\n",
        "plt.show()"
      ],
      "execution_count": null,
      "outputs": []
    },
    {
      "cell_type": "code",
      "metadata": {
        "id": "KjYn1kYpsKEk"
      },
      "source": [
        "#!conda install -c districtdatalabs yellowbrick\n",
        "\n",
        "from yellowbrick.cluster import KElbowVisualizer\n"
      ],
      "execution_count": null,
      "outputs": []
    },
    {
      "cell_type": "code",
      "metadata": {
        "id": "ImC8P7GjsKEk"
      },
      "source": [
        "# Instantiate the clustering model and visualizer\n",
        "model = KMeans()\n",
        "visualizer = KElbowVisualizer(model, k=(4,13))\n",
        "\n",
        "visualizer.fit(toronto_part_clustering)        # Fit the data to the visualizer\n",
        "visualizer.draw()        # Finalize and render the figure"
      ],
      "execution_count": null,
      "outputs": []
    },
    {
      "cell_type": "markdown",
      "metadata": {
        "id": "JL_k-nRHsKEk"
      },
      "source": [
        "###### After analysing using elbow method using distortion score & Squared error for each K value, looks like K = 6 is the best value."
      ]
    },
    {
      "cell_type": "markdown",
      "metadata": {
        "id": "xAyEp_fWsKEl"
      },
      "source": [
        "<h4> Clustering the Toronto Neighborhood Using K-Means with K = 6 </h4>"
      ]
    },
    {
      "cell_type": "code",
      "metadata": {
        "id": "ujCWF0kksKEl"
      },
      "source": [
        "kclusters = 6\n",
        "\n",
        "toronto_part_clustering = toronto_part.drop('Neighborhood', 1)\n",
        "\n",
        "kmeans = KMeans(n_clusters=kclusters, random_state=0).fit(toronto_part_clustering)\n",
        "\n",
        "kmeans.labels_"
      ],
      "execution_count": null,
      "outputs": []
    },
    {
      "cell_type": "code",
      "metadata": {
        "id": "VW6UDhFKsKEl"
      },
      "source": [
        "#sorted_neighborhoods_venues.drop(['Cluster Labels'],axis=1,inplace=True)\n",
        "toronto_part.insert(0, 'Cluster Labels', kmeans.labels_)\n",
        "toronto_merged = toronto_DF\n",
        "# merge toronto_grouped with toronto_data to add latitude/longitude for each neighborhood\n",
        "toronto_merged = toronto_merged.join(toronto_part.set_index('Neighborhood'), on='Neighborhood')\n",
        "toronto_merged.dropna(subset=[\"Cluster Labels\"], axis=0, inplace=True)\n",
        "toronto_merged.reset_index(drop=True, inplace=True)\n",
        "toronto_merged['Cluster Labels'].astype(int)\n",
        "toronto_merged.head()"
      ],
      "execution_count": null,
      "outputs": []
    },
    {
      "cell_type": "markdown",
      "metadata": {
        "id": "LihIwL-UsKEl"
      },
      "source": [
        "Let us see the clusters visually on the map with the help of Folium."
      ]
    },
    {
      "cell_type": "code",
      "metadata": {
        "scrolled": true,
        "id": "lx6lPQu4sKEl"
      },
      "source": [
        "import matplotlib.cm as cm\n",
        "import matplotlib.colors as colors\n",
        "\n",
        "map_clusters = folium.Map(location=[latitude, longitude], zoom_start=11, width='90%', height='70%')\n",
        "\n",
        "# set color scheme for the clusters\n",
        "x = np.arange(kclusters)\n",
        "ys = [i + x + (i*x)**2 for i in range(kclusters)]\n",
        "colors_array = cm.rainbow(np.linspace(0, 1, len(ys)))\n",
        "rainbow = [colors.rgb2hex(i) for i in colors_array]\n",
        "\n",
        "# add markers to the map\n",
        "markers_colors = []\n",
        "for lat, lon, poi, cluster in zip(toronto_merged['Latitude'], toronto_merged['Longitude'], toronto_merged['Neighborhood'], toronto_merged['Cluster Labels'].astype(int)):\n",
        "    label = folium.Popup(str(poi) + ' Cluster ' + str(cluster), parse_html=True)\n",
        "    folium.CircleMarker(\n",
        "        [lat, lon],\n",
        "        radius=5,\n",
        "        popup=label,\n",
        "        color=rainbow[cluster-1],\n",
        "        fill=True,\n",
        "        fill_color=rainbow[cluster-1],\n",
        "        fill_opacity=0.7).add_to(map_clusters)\n",
        "map_clusters"
      ],
      "execution_count": null,
      "outputs": []
    },
    {
      "cell_type": "markdown",
      "metadata": {
        "id": "DswH3FiRsKEm"
      },
      "source": [
        "<h3>4.2 Examing the Clusters:</h3>\n"
      ]
    },
    {
      "cell_type": "markdown",
      "metadata": {
        "id": "AuTfYPjgsKEm"
      },
      "source": [
        "We have total of 6 clusters such as 0,1,2,3,4,5. Let us examine one after the other.\n",
        "\n"
      ]
    },
    {
      "cell_type": "markdown",
      "metadata": {
        "id": "oP0qZUxesKEm"
      },
      "source": [
        "Cluster 0 contains all the neighborhoods which has least number of Indian restaurants. It is shown in red color in the map"
      ]
    },
    {
      "cell_type": "code",
      "metadata": {
        "id": "V_6UEW8xsKEm"
      },
      "source": [
        "#Cluster 0\n",
        "toronto_merged.loc[toronto_merged['Cluster Labels'] == 0]"
      ],
      "execution_count": null,
      "outputs": []
    },
    {
      "cell_type": "markdown",
      "metadata": {
        "id": "4EuAU1x1sKEm"
      },
      "source": [
        "Cluster 1 contains the neighborhoods which is sparsely populated with Indian restaurants. It is shown in purple color in the map."
      ]
    },
    {
      "cell_type": "code",
      "metadata": {
        "id": "vZV70r_ksKEn"
      },
      "source": [
        "#Cluster 1\n",
        "toronto_merged.loc[toronto_merged['Cluster Labels'] == 1]\n"
      ],
      "execution_count": null,
      "outputs": []
    },
    {
      "cell_type": "markdown",
      "metadata": {
        "id": "iDoGY6znsKEn"
      },
      "source": [
        "Cluster 2 has no rows meaning no data points or neighborhood was near to this centroid."
      ]
    },
    {
      "cell_type": "code",
      "metadata": {
        "id": "biE3JTVdsKEn"
      },
      "source": [
        "#Cluster 2\n",
        "toronto_merged.loc[toronto_merged['Cluster Labels'] == 2]\n"
      ],
      "execution_count": null,
      "outputs": []
    },
    {
      "cell_type": "markdown",
      "metadata": {
        "id": "XIpAduihsKEn"
      },
      "source": [
        "Cluster 3 contains all the neighborhoods which is medium populated with Indian restaurants. It is shown in blue color in the map."
      ]
    },
    {
      "cell_type": "code",
      "metadata": {
        "id": "FwjcJsWWsKEn"
      },
      "source": [
        "#Cluster 3\n",
        "toronto_merged.loc[toronto_merged['Cluster Labels'] == 3]\n"
      ],
      "execution_count": null,
      "outputs": []
    },
    {
      "cell_type": "markdown",
      "metadata": {
        "id": "x3zDppsLsKEo"
      },
      "source": [
        "Cluster 4 has no rows meaning no data points or neighborhood was near to this centroid. "
      ]
    },
    {
      "cell_type": "code",
      "metadata": {
        "id": "0kYuEhFcsKEo"
      },
      "source": [
        "#Cluster 4\n",
        "toronto_merged.loc[toronto_merged['Cluster Labels'] == 4]\n"
      ],
      "execution_count": null,
      "outputs": []
    },
    {
      "cell_type": "markdown",
      "metadata": {
        "id": "OCJpghFTsKEo"
      },
      "source": [
        "Cluster 5 contains all the neighborhoods which is densely populated with Indian restaurants. It is shown in Orange color in the map"
      ]
    },
    {
      "cell_type": "code",
      "metadata": {
        "scrolled": true,
        "id": "RdGvey7GsKEo"
      },
      "source": [
        "#Cluster 5\n",
        "toronto_merged.loc[toronto_merged['Cluster Labels'] == 5]\n"
      ],
      "execution_count": null,
      "outputs": []
    },
    {
      "cell_type": "markdown",
      "metadata": {
        "id": "VDx13C1HsKEo"
      },
      "source": [
        "<h2>5. Results and Discussion:</h2>"
      ]
    },
    {
      "cell_type": "markdown",
      "metadata": {
        "id": "0wI2TsKDsKEo"
      },
      "source": [
        "<h3>5.1 Results</h3>\n"
      ]
    },
    {
      "cell_type": "markdown",
      "metadata": {
        "id": "I3yKFAClsKEp"
      },
      "source": [
        "We have reached the end of the analysis, in the result section we can document all the findinds from above clustering & visualization of the datas. In this project, as the business problem started with identifying a good neighborhood to open a new Indian restaurant, we looked into all the neighborhoods in Toronto, analysed the Indian population in each neighborhood & spread of Indian restaurants in those neighborhoods to come to conclusion about which neighborhood would be a better spot for opening a new Indian restaurant. I have used data from web resources like Wikipedia, geospatial coordinates of Toronto neighborhoods, and Foursquare API, to set up a very realistic data-analysis scenario. We have found out that —\n"
      ]
    },
    {
      "cell_type": "markdown",
      "metadata": {
        "id": "pGMYeaq1sKEp"
      },
      "source": [
        "<li> In those 11 boroughs we identified that only Central Toronto, Downtown Tronto, East Toronto, East York, North York & Scarborough boroughs have high amount of Indian restaurants with the help of Violin plots between Number of Indian restaurants in Borough of Toronto. </li>\n",
        "\n"
      ]
    },
    {
      "cell_type": "markdown",
      "metadata": {
        "id": "Zuj09KlwsKEp"
      },
      "source": [
        "<li> In all the ridings, Scarborough-Guildwood, Scarborough-Rouge Park, Scarborough Centre, Scarborough North, Humber River-Black Creek, Don Valley East, Scarborough Southwest, Don Valley North & Scarborough-Agincourt are the densely populated with Indian crowd ridings. </li>"
      ]
    },
    {
      "cell_type": "markdown",
      "metadata": {
        "id": "H6DBXhHlsKEp"
      },
      "source": [
        "<li>With the help of clusters examing & violin plots looks like Downtown Toronto, Central Toronto, East York are already densely populated with Indian restaurants. So it is better idea to leave those boroughs out and consider only Scarborough, East Toronto & North York for the new restaurant's location.</li>"
      ]
    },
    {
      "cell_type": "markdown",
      "metadata": {
        "id": "-75tieTcsKEp"
      },
      "source": [
        "<li>After careful consideration it is a good idea to open a new Indian restaurant in Scarborough borough since it has high number of Indian population which gives a higher number of customers possibility and lower competition since very less Indian restaurants in the neighborhoods. </li>"
      ]
    },
    {
      "cell_type": "markdown",
      "metadata": {
        "id": "qEjBRKZxsKEp"
      },
      "source": [
        "<h3>5.2 Discussion</h3>"
      ]
    },
    {
      "cell_type": "markdown",
      "metadata": {
        "id": "QU8mUPuosKEq"
      },
      "source": [
        "According to this analysis, Scarborough borough will provide least competition for the new upcoming Indian restaurant as there is very little Indian restaurants spread or no Indian restaurants in neighborhoods. Also looking at the population distribution looks like it is densely populated with Indian crowd which helps the new restaurant by providing hig customer visit possibilty. So, definitely this region could potentially be a perfect place for starting a quality Indian restaurants. Some of the drawbacks of this analysis are — the clustering is completely based only on data obtained from Foursquare API. Also the Indian population distribution in each neighborhood is also based on the 2016 census which is not up-to date. Thus population distribution would have definitely changed by 2019 given 3 years gap in the data. \n",
        "Since population distribution of Indian crowd in each neighborhood & number of Indian restaurants are the major feature in this analysis and it is not fully up-to date  data, this analysis is definitely not far from being conclusory & it has lot of areas where it can be imporved. However, it certainly provides us with some good insights, preliminary information on possibilites & a head start into this business problem by setting the step stones properly. Furthermore, this may also potentially vary depending on the type of clustering techniques that we use to examine the data."
      ]
    },
    {
      "cell_type": "markdown",
      "metadata": {
        "id": "kcLvOERFsKEq"
      },
      "source": [
        "<h2>6. Conclusion:</h2>"
      ]
    },
    {
      "cell_type": "markdown",
      "metadata": {
        "id": "5wwVGR6EsKEq"
      },
      "source": [
        "Finally to conclude this project, We have got a chance to on a business problem like how a real like data scientists would do. We have used many python libraries to fetch the data , to manipulate the contents & to analyze and visualize those datasets. We have made use of Foursquare API to explore the venues in enighborhoods of Toronto, then get good amount of data from Wikipedia which we scraped with help of Wikipedia python library and visualized using various plots present in seaborn & matplotlib. We also applied machine learning technique to to predict the output given the data and used Folium to visualize it on a map. Also, some of the drawbacks or areas of improvements shows us that this analysis can further be improved with help more data and different machine learning technique. Similarly we can use this project to analysis any scenario such opening a different cuisine or success of opening a new gym and etc. Hopefully, this project helps acts as initial guidance to take more complex real-life challenges using data-science.\n"
      ]
    },
    {
      "cell_type": "code",
      "metadata": {
        "id": "MwaoUaWSsKEq"
      },
      "source": [
        "toronto_part.drop('Cluster Labels',axis=1, inplace=True)"
      ],
      "execution_count": null,
      "outputs": []
    }
  ]
}